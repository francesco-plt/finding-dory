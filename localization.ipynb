{
  "cells": [
    {
      "cell_type": "markdown",
      "metadata": {
        "id": "hsabRp6lQymw"
      },
      "source": [
        "# Finding Dory\n",
        "## Politecnico di Milano, Internet of Things + Wireless Internet project\n",
        "### Processing and localization\n",
        "\n",
        "In the fist part of this project we have collected from the CoAP and MQTT server a total of 180 fingerprints and Dory's RSSI. In this part of the project we analyze the data and localize Dory using fingerprint-based methods.\n",
        "\n",
        "\n",
        "# Import data\n",
        "\n",
        "The fist step is importing the retrieved data and set it up in a format suitable for analysis. In this section we import the data by parsing with simple custom parsers the hand-crafted text files and convert the entire dataset into a standard dataframe, suitable for further analysis."
      ]
    },
    {
      "cell_type": "code",
      "execution_count": 153,
      "metadata": {
        "colab": {
          "base_uri": "https://localhost:8080/"
        },
        "id": "t7058XoCRGJT",
        "outputId": "57dce6d2-8e54-4520-ec94-8737f4ea67c4"
      },
      "outputs": [],
      "source": [
        "import ast\n",
        "import pandas as pd\n",
        "import numpy as np\n",
        "from numpy.ma.core import log10"
      ]
    },
    {
      "cell_type": "markdown",
      "metadata": {
        "id": "s7qPERDyE_aJ"
      },
      "source": [
        "## Import data from CoAP"
      ]
    },
    {
      "cell_type": "code",
      "execution_count": 154,
      "metadata": {
        "colab": {
          "base_uri": "https://localhost:8080/",
          "height": 0
        },
        "id": "RXwa_P3hE9dd",
        "outputId": "7107fe21-fd9a-475e-d927-b43d0b07e4fb"
      },
      "outputs": [],
      "source": [
        "data_coap = []\n",
        "with open(\"coap/coap_coords.txt\") as f:\n",
        "  for l in f:\n",
        "    row = []\n",
        "    ls = l.split(\"||\")\n",
        "\n",
        "    # extract ground truth position\n",
        "    pos = list(map(int, map(float,ls[0].split(\",\"))))\n",
        "\n",
        "    # parse list and integer literals as python lists\n",
        "    anchors_readings = []\n",
        "    for anchor_readings in ls[1:]:\n",
        "      anchors_readings.append(list(map(ast.literal_eval , ast.literal_eval(anchor_readings.strip()))))\n",
        "    \n",
        "    # unroll experiments into one row per experiment\n",
        "    # appending ground truth and one station per column\n",
        "    for exp_idx in range(len(anchors_readings[0])):\n",
        "      row = pos[:]\n",
        "      for anchor_idx in range(len(anchors_readings)):\n",
        "\n",
        "        row.append(anchors_readings[anchor_idx][exp_idx])\n",
        "      data_coap.append(row)\n",
        "  \n",
        "  # build df\n",
        "  df_coap = pd.DataFrame(data=data_coap, columns=[\"X\", \"Y\", \"A1\", \"A2\", \"A3\", \"A4\", \"A5\", \"A6\"])"
      ]
    },
    {
      "cell_type": "markdown",
      "metadata": {
        "id": "i_OrSUZ5RJsI"
      },
      "source": [
        "## Import data from MQTT"
      ]
    },
    {
      "cell_type": "code",
      "execution_count": 155,
      "metadata": {
        "colab": {
          "base_uri": "https://localhost:8080/",
          "height": 0
        },
        "id": "dikizWyUFM1_",
        "outputId": "85b5f42f-f7c7-4b47-bff5-9c005d749729"
      },
      "outputs": [],
      "source": [
        "data_mqtt = []\n",
        "with open(\"mqtt/mqtt_coords.txt\") as f:\n",
        "  for l in f:\n",
        "    row = []\n",
        "    ls = l.split(\"|\")\n",
        "\n",
        "    # extract ground truth position\n",
        "    pos = list(map(int, map(float,ls[0].split(\",\"))))\n",
        "\n",
        "    # parse list and integet literals as python lists\n",
        "    anchors_readings = []\n",
        "    for anchor_readings in ls[1:]:\n",
        "      anchors_readings.append(list(map(int , anchor_readings.strip().split(\",\"))))\n",
        "    \n",
        "    # unroll experiments into one row per experiment\n",
        "    # appending ground truth and one station per column\n",
        "    for exp_idx in range(len(anchors_readings[0])):\n",
        "      row = pos[:]\n",
        "      for anchor_idx in range(len(anchors_readings)):\n",
        "        #print(anchors_readings[anchor_idx])\n",
        "        row.append(anchors_readings[anchor_idx][exp_idx])\n",
        "      data_mqtt.append(row)\n",
        "  \n",
        "  # build df\n",
        "  df_mqtt = pd.DataFrame(data=data_mqtt, columns=[\"X\", \"Y\", \"A1\", \"A2\", \"A3\", \"A4\", \"A5\", \"A6\"])"
      ]
    },
    {
      "cell_type": "markdown",
      "metadata": {
        "id": "iGhOCEwBs8aD"
      },
      "source": [
        "## Merging the two data sets plus Dory's RSSI"
      ]
    },
    {
      "cell_type": "code",
      "execution_count": 156,
      "metadata": {
        "colab": {
          "base_uri": "https://localhost:8080/",
          "height": 424
        },
        "id": "w6TuZTjWRusx",
        "outputId": "8dc44481-0470-4265-da0d-3217f9725355"
      },
      "outputs": [
        {
          "data": {
            "text/html": [
              "<div>\n",
              "<style scoped>\n",
              "    .dataframe tbody tr th:only-of-type {\n",
              "        vertical-align: middle;\n",
              "    }\n",
              "\n",
              "    .dataframe tbody tr th {\n",
              "        vertical-align: top;\n",
              "    }\n",
              "\n",
              "    .dataframe thead th {\n",
              "        text-align: right;\n",
              "    }\n",
              "</style>\n",
              "<table border=\"1\" class=\"dataframe\">\n",
              "  <thead>\n",
              "    <tr style=\"text-align: right;\">\n",
              "      <th></th>\n",
              "      <th>X</th>\n",
              "      <th>Y</th>\n",
              "      <th>A1</th>\n",
              "      <th>A2</th>\n",
              "      <th>A3</th>\n",
              "      <th>A4</th>\n",
              "      <th>A5</th>\n",
              "      <th>A6</th>\n",
              "    </tr>\n",
              "  </thead>\n",
              "  <tbody>\n",
              "    <tr>\n",
              "      <th>0</th>\n",
              "      <td>10</td>\n",
              "      <td>6</td>\n",
              "      <td>-64</td>\n",
              "      <td>-64</td>\n",
              "      <td>-61</td>\n",
              "      <td>-59</td>\n",
              "      <td>-59</td>\n",
              "      <td>-55</td>\n",
              "    </tr>\n",
              "    <tr>\n",
              "      <th>1</th>\n",
              "      <td>10</td>\n",
              "      <td>6</td>\n",
              "      <td>-60</td>\n",
              "      <td>-60</td>\n",
              "      <td>-57</td>\n",
              "      <td>-55</td>\n",
              "      <td>-55</td>\n",
              "      <td>-51</td>\n",
              "    </tr>\n",
              "    <tr>\n",
              "      <th>2</th>\n",
              "      <td>10</td>\n",
              "      <td>6</td>\n",
              "      <td>-62</td>\n",
              "      <td>-61</td>\n",
              "      <td>-58</td>\n",
              "      <td>-56</td>\n",
              "      <td>-57</td>\n",
              "      <td>-53</td>\n",
              "    </tr>\n",
              "    <tr>\n",
              "      <th>3</th>\n",
              "      <td>10</td>\n",
              "      <td>6</td>\n",
              "      <td>-66</td>\n",
              "      <td>-66</td>\n",
              "      <td>-63</td>\n",
              "      <td>-61</td>\n",
              "      <td>-61</td>\n",
              "      <td>-57</td>\n",
              "    </tr>\n",
              "    <tr>\n",
              "      <th>4</th>\n",
              "      <td>10</td>\n",
              "      <td>6</td>\n",
              "      <td>-64</td>\n",
              "      <td>-64</td>\n",
              "      <td>-61</td>\n",
              "      <td>-59</td>\n",
              "      <td>-59</td>\n",
              "      <td>-55</td>\n",
              "    </tr>\n",
              "    <tr>\n",
              "      <th>...</th>\n",
              "      <td>...</td>\n",
              "      <td>...</td>\n",
              "      <td>...</td>\n",
              "      <td>...</td>\n",
              "      <td>...</td>\n",
              "      <td>...</td>\n",
              "      <td>...</td>\n",
              "      <td>...</td>\n",
              "    </tr>\n",
              "    <tr>\n",
              "      <th>65</th>\n",
              "      <td>8</td>\n",
              "      <td>4</td>\n",
              "      <td>-59</td>\n",
              "      <td>-61</td>\n",
              "      <td>-54</td>\n",
              "      <td>-55</td>\n",
              "      <td>-57</td>\n",
              "      <td>-56</td>\n",
              "    </tr>\n",
              "    <tr>\n",
              "      <th>66</th>\n",
              "      <td>8</td>\n",
              "      <td>4</td>\n",
              "      <td>-66</td>\n",
              "      <td>-67</td>\n",
              "      <td>-61</td>\n",
              "      <td>-60</td>\n",
              "      <td>-63</td>\n",
              "      <td>-63</td>\n",
              "    </tr>\n",
              "    <tr>\n",
              "      <th>67</th>\n",
              "      <td>8</td>\n",
              "      <td>4</td>\n",
              "      <td>-64</td>\n",
              "      <td>-65</td>\n",
              "      <td>-59</td>\n",
              "      <td>-58</td>\n",
              "      <td>-61</td>\n",
              "      <td>-61</td>\n",
              "    </tr>\n",
              "    <tr>\n",
              "      <th>68</th>\n",
              "      <td>8</td>\n",
              "      <td>4</td>\n",
              "      <td>-65</td>\n",
              "      <td>-66</td>\n",
              "      <td>-60</td>\n",
              "      <td>-59</td>\n",
              "      <td>-62</td>\n",
              "      <td>-62</td>\n",
              "    </tr>\n",
              "    <tr>\n",
              "      <th>69</th>\n",
              "      <td>8</td>\n",
              "      <td>4</td>\n",
              "      <td>-63</td>\n",
              "      <td>-64</td>\n",
              "      <td>-58</td>\n",
              "      <td>-57</td>\n",
              "      <td>-60</td>\n",
              "      <td>-60</td>\n",
              "    </tr>\n",
              "  </tbody>\n",
              "</table>\n",
              "<p>180 rows × 8 columns</p>\n",
              "</div>"
            ],
            "text/plain": [
              "     X  Y  A1  A2  A3  A4  A5  A6\n",
              "0   10  6 -64 -64 -61 -59 -59 -55\n",
              "1   10  6 -60 -60 -57 -55 -55 -51\n",
              "2   10  6 -62 -61 -58 -56 -57 -53\n",
              "3   10  6 -66 -66 -63 -61 -61 -57\n",
              "4   10  6 -64 -64 -61 -59 -59 -55\n",
              "..  .. ..  ..  ..  ..  ..  ..  ..\n",
              "65   8  4 -59 -61 -54 -55 -57 -56\n",
              "66   8  4 -66 -67 -61 -60 -63 -63\n",
              "67   8  4 -64 -65 -59 -58 -61 -61\n",
              "68   8  4 -65 -66 -60 -59 -62 -62\n",
              "69   8  4 -63 -64 -58 -57 -60 -60\n",
              "\n",
              "[180 rows x 8 columns]"
            ]
          },
          "metadata": {},
          "output_type": "display_data"
        }
      ],
      "source": [
        "df = pd.concat([df_coap, df_mqtt])\n",
        "\n",
        "# manually define Dory's RSSI\n",
        "Dory_RSSI = [-57,-63,-58,-64,-63,-66]\n",
        "Dory_RSSI_np = np.array(Dory_RSSI)\n",
        "Dory_RSSI_mw = np.power(10, Dory_RSSI_np/10)\n",
        "\n",
        "# dataset constraints to check if the data is valid\n",
        "assert(len(df) == 6*6*5)\n",
        "assert(df.isna().sum().sum() == 0)\n",
        "\n",
        "display(df)"
      ]
    },
    {
      "cell_type": "code",
      "execution_count": 157,
      "metadata": {
        "colab": {
          "base_uri": "https://localhost:8080/"
        },
        "id": "JRauAzpW1nwp",
        "outputId": "3ce1e679-82de-4766-ede4-2341bc26d21f"
      },
      "outputs": [
        {
          "data": {
            "text/plain": [
              "array([-57., -63., -58., -64., -63., -66.])"
            ]
          },
          "execution_count": 157,
          "metadata": {},
          "output_type": "execute_result"
        }
      ],
      "source": [
        "np.array(log10(Dory_RSSI_mw)*10)"
      ]
    },
    {
      "cell_type": "markdown",
      "metadata": {
        "id": "39DQ4mrK1JUH"
      },
      "source": [
        "## Aggregating data and dealing with missing values\n",
        "Let us average all readings for an anchor at a position and build a dataframe of mean readings."
      ]
    },
    {
      "cell_type": "code",
      "execution_count": 160,
      "metadata": {
        "colab": {
          "base_uri": "https://localhost:8080/",
          "height": 1000
        },
        "id": "1UrFAbo44CJ4",
        "outputId": "a4fee5a7-6bd2-4179-b316-4c620d60d42d"
      },
      "outputs": [],
      "source": [
        "means_data = []\n",
        "for x in range(0,11,2):\n",
        "    for y in range(0,11,2):\n",
        "      row = [x,y]\n",
        "      row += df.loc[(df['X'] == x) & (df['Y'] == y)].mean()[[\"A1\", \"A2\",\"A3\",\"A4\",\"A5\",\"A6\"]].values.tolist()\n",
        "      means_data.append(row)\n",
        "df_means = pd.DataFrame(data=means_data, columns=['X', 'Y', \"A1\", \"A2\", \"A3\", \"A4\", \"A5\", \"A6\"])"
      ]
    },
    {
      "cell_type": "markdown",
      "metadata": {
        "id": "-fSEmpXR1jA3"
      },
      "source": [
        "### Interpolation\n",
        "Let us now perform linear and bilinear interpolation as needed to fill in the missing values."
      ]
    },
    {
      "cell_type": "code",
      "execution_count": 161,
      "metadata": {
        "colab": {
          "base_uri": "https://localhost:8080/",
          "height": 424
        },
        "id": "4LAH3F4o1Uay",
        "outputId": "9ef55722-8ca6-43d9-f28a-e7007ab26721"
      },
      "outputs": [
        {
          "data": {
            "text/html": [
              "<div>\n",
              "<style scoped>\n",
              "    .dataframe tbody tr th:only-of-type {\n",
              "        vertical-align: middle;\n",
              "    }\n",
              "\n",
              "    .dataframe tbody tr th {\n",
              "        vertical-align: top;\n",
              "    }\n",
              "\n",
              "    .dataframe thead th {\n",
              "        text-align: right;\n",
              "    }\n",
              "</style>\n",
              "<table border=\"1\" class=\"dataframe\">\n",
              "  <thead>\n",
              "    <tr style=\"text-align: right;\">\n",
              "      <th></th>\n",
              "      <th>X</th>\n",
              "      <th>Y</th>\n",
              "      <th>A1</th>\n",
              "      <th>A2</th>\n",
              "      <th>A3</th>\n",
              "      <th>A4</th>\n",
              "      <th>A5</th>\n",
              "      <th>A6</th>\n",
              "    </tr>\n",
              "  </thead>\n",
              "  <tbody>\n",
              "    <tr>\n",
              "      <th>0</th>\n",
              "      <td>0.0</td>\n",
              "      <td>0.0</td>\n",
              "      <td>-26.8</td>\n",
              "      <td>-66.6</td>\n",
              "      <td>-61.0</td>\n",
              "      <td>-66.8</td>\n",
              "      <td>-67.6</td>\n",
              "      <td>-69.8</td>\n",
              "    </tr>\n",
              "    <tr>\n",
              "      <th>1</th>\n",
              "      <td>0.0</td>\n",
              "      <td>2.0</td>\n",
              "      <td>-51.4</td>\n",
              "      <td>-63.2</td>\n",
              "      <td>-59.8</td>\n",
              "      <td>-65.4</td>\n",
              "      <td>-64.6</td>\n",
              "      <td>-67.4</td>\n",
              "    </tr>\n",
              "    <tr>\n",
              "      <th>2</th>\n",
              "      <td>0.0</td>\n",
              "      <td>4.0</td>\n",
              "      <td>-56.8</td>\n",
              "      <td>-60.4</td>\n",
              "      <td>-60.6</td>\n",
              "      <td>-65.4</td>\n",
              "      <td>-62.4</td>\n",
              "      <td>-66.0</td>\n",
              "    </tr>\n",
              "    <tr>\n",
              "      <th>3</th>\n",
              "      <td>0.0</td>\n",
              "      <td>6.0</td>\n",
              "      <td>-61.4</td>\n",
              "      <td>-58.2</td>\n",
              "      <td>-64.4</td>\n",
              "      <td>-67.2</td>\n",
              "      <td>-62.0</td>\n",
              "      <td>-66.4</td>\n",
              "    </tr>\n",
              "    <tr>\n",
              "      <th>4</th>\n",
              "      <td>0.0</td>\n",
              "      <td>8.0</td>\n",
              "      <td>-61.2</td>\n",
              "      <td>-49.6</td>\n",
              "      <td>-64.0</td>\n",
              "      <td>-65.6</td>\n",
              "      <td>-58.2</td>\n",
              "      <td>-64.0</td>\n",
              "    </tr>\n",
              "    <tr>\n",
              "      <th>...</th>\n",
              "      <td>...</td>\n",
              "      <td>...</td>\n",
              "      <td>...</td>\n",
              "      <td>...</td>\n",
              "      <td>...</td>\n",
              "      <td>...</td>\n",
              "      <td>...</td>\n",
              "      <td>...</td>\n",
              "    </tr>\n",
              "    <tr>\n",
              "      <th>0</th>\n",
              "      <td>10.0</td>\n",
              "      <td>1.0</td>\n",
              "      <td>-64.3</td>\n",
              "      <td>-66.8</td>\n",
              "      <td>-58.7</td>\n",
              "      <td>-37.5</td>\n",
              "      <td>-65.0</td>\n",
              "      <td>-63.5</td>\n",
              "    </tr>\n",
              "    <tr>\n",
              "      <th>0</th>\n",
              "      <td>10.0</td>\n",
              "      <td>3.0</td>\n",
              "      <td>-65.3</td>\n",
              "      <td>-66.7</td>\n",
              "      <td>-60.4</td>\n",
              "      <td>-54.3</td>\n",
              "      <td>-64.3</td>\n",
              "      <td>-61.8</td>\n",
              "    </tr>\n",
              "    <tr>\n",
              "      <th>0</th>\n",
              "      <td>10.0</td>\n",
              "      <td>5.0</td>\n",
              "      <td>-65.0</td>\n",
              "      <td>-65.3</td>\n",
              "      <td>-61.2</td>\n",
              "      <td>-58.2</td>\n",
              "      <td>-61.3</td>\n",
              "      <td>-58.0</td>\n",
              "    </tr>\n",
              "    <tr>\n",
              "      <th>0</th>\n",
              "      <td>10.0</td>\n",
              "      <td>7.0</td>\n",
              "      <td>-64.1</td>\n",
              "      <td>-63.0</td>\n",
              "      <td>-61.1</td>\n",
              "      <td>-59.5</td>\n",
              "      <td>-57.8</td>\n",
              "      <td>-51.6</td>\n",
              "    </tr>\n",
              "    <tr>\n",
              "      <th>0</th>\n",
              "      <td>10.0</td>\n",
              "      <td>9.0</td>\n",
              "      <td>-66.7</td>\n",
              "      <td>-64.2</td>\n",
              "      <td>-64.3</td>\n",
              "      <td>-63.2</td>\n",
              "      <td>-58.4</td>\n",
              "      <td>-37.4</td>\n",
              "    </tr>\n",
              "  </tbody>\n",
              "</table>\n",
              "<p>121 rows × 8 columns</p>\n",
              "</div>"
            ],
            "text/plain": [
              "       X    Y    A1    A2    A3    A4    A5    A6\n",
              "0    0.0  0.0 -26.8 -66.6 -61.0 -66.8 -67.6 -69.8\n",
              "1    0.0  2.0 -51.4 -63.2 -59.8 -65.4 -64.6 -67.4\n",
              "2    0.0  4.0 -56.8 -60.4 -60.6 -65.4 -62.4 -66.0\n",
              "3    0.0  6.0 -61.4 -58.2 -64.4 -67.2 -62.0 -66.4\n",
              "4    0.0  8.0 -61.2 -49.6 -64.0 -65.6 -58.2 -64.0\n",
              "..   ...  ...   ...   ...   ...   ...   ...   ...\n",
              "0   10.0  1.0 -64.3 -66.8 -58.7 -37.5 -65.0 -63.5\n",
              "0   10.0  3.0 -65.3 -66.7 -60.4 -54.3 -64.3 -61.8\n",
              "0   10.0  5.0 -65.0 -65.3 -61.2 -58.2 -61.3 -58.0\n",
              "0   10.0  7.0 -64.1 -63.0 -61.1 -59.5 -57.8 -51.6\n",
              "0   10.0  9.0 -66.7 -64.2 -64.3 -63.2 -58.4 -37.4\n",
              "\n",
              "[121 rows x 8 columns]"
            ]
          },
          "metadata": {},
          "output_type": "display_data"
        }
      ],
      "source": [
        "# row-based\n",
        "df_interpolation = df_means.copy()\n",
        "for x in range(1,10,2):\n",
        "  for y in range(0,11,2):\n",
        "\n",
        "    row = pd.DataFrame(df_interpolation.loc[((df_interpolation['X'] == (x - 1)) |\n",
        "                                       (df_interpolation['X'] == (x + 1))) &\n",
        "                                       (df_interpolation['Y'] == y)].mean(axis=0).dropna()).transpose()\n",
        "    df_interpolation = pd.concat([df_interpolation, pd.DataFrame(row)])\n",
        "\n",
        "\n",
        "# column-based\n",
        "for x in range(0,11,1):\n",
        "  for y in range(1,10,1):\n",
        "\n",
        "    if not df_interpolation.loc[(df_interpolation['X'] == x) &\n",
        "                                (df_interpolation['Y'] == y)].empty:\n",
        "      continue\n",
        "    row = pd.DataFrame(df_interpolation.loc[((df_interpolation['Y'] == (y - 1)) |\n",
        "                                       (df_interpolation['Y'] == (y + 1))) &\n",
        "                                       (df_interpolation['X'] == x)].mean(axis=0).dropna()).transpose()\n",
        "    df_interpolation = pd.concat([df_interpolation, pd.DataFrame(row)])\n",
        "\n",
        "display(df_interpolation)"
      ]
    },
    {
      "cell_type": "markdown",
      "metadata": {},
      "source": [
        "### Euclidean Distance\n",
        "Now that we have managed average the values of repeated measurements and to approximate the missing ones, we can compute again the Euclidean distance of each fingerprint from the Dory RSSI sample."
      ]
    },
    {
      "cell_type": "code",
      "execution_count": null,
      "metadata": {},
      "outputs": [],
      "source": [
        "def compute_euclidean_distance(row):\n",
        "  return np.linalg.norm(Dory_RSSI_np - row[[\"A1\", \"A2\", \"A3\", \"A4\", \"A5\", \"A6\"]])\n",
        "\n",
        "def compute_euclidean_distance_mw(row):\n",
        "  return np.linalg.norm(Dory_RSSI_mw - np.power(10, row[[\"A1\", \"A2\", \"A3\", \"A4\", \"A5\", \"A6\"]] / 10))"
      ]
    },
    {
      "cell_type": "markdown",
      "metadata": {},
      "source": [
        "First we compute the Euclidean distance from the dataset composed only by the measured samples:"
      ]
    },
    {
      "cell_type": "code",
      "execution_count": 164,
      "metadata": {},
      "outputs": [
        {
          "data": {
            "text/html": [
              "<div>\n",
              "<style scoped>\n",
              "    .dataframe tbody tr th:only-of-type {\n",
              "        vertical-align: middle;\n",
              "    }\n",
              "\n",
              "    .dataframe tbody tr th {\n",
              "        vertical-align: top;\n",
              "    }\n",
              "\n",
              "    .dataframe thead th {\n",
              "        text-align: right;\n",
              "    }\n",
              "</style>\n",
              "<table border=\"1\" class=\"dataframe\">\n",
              "  <thead>\n",
              "    <tr style=\"text-align: right;\">\n",
              "      <th></th>\n",
              "      <th>X</th>\n",
              "      <th>Y</th>\n",
              "      <th>A1</th>\n",
              "      <th>A2</th>\n",
              "      <th>A3</th>\n",
              "      <th>A4</th>\n",
              "      <th>A5</th>\n",
              "      <th>A6</th>\n",
              "      <th>Euclidean Distance</th>\n",
              "    </tr>\n",
              "  </thead>\n",
              "  <tbody>\n",
              "    <tr>\n",
              "      <th>8</th>\n",
              "      <td>2</td>\n",
              "      <td>4</td>\n",
              "      <td>-58.2</td>\n",
              "      <td>-61.2</td>\n",
              "      <td>-59.2</td>\n",
              "      <td>-64.2</td>\n",
              "      <td>-61.8</td>\n",
              "      <td>-65.2</td>\n",
              "      <td>2.87054</td>\n",
              "    </tr>\n",
              "  </tbody>\n",
              "</table>\n",
              "</div>"
            ],
            "text/plain": [
              "   X  Y    A1    A2    A3    A4    A5    A6  Euclidean Distance\n",
              "8  2  4 -58.2 -61.2 -59.2 -64.2 -61.8 -65.2             2.87054"
            ]
          },
          "metadata": {},
          "output_type": "display_data"
        },
        {
          "data": {
            "text/html": [
              "<div>\n",
              "<style scoped>\n",
              "    .dataframe tbody tr th:only-of-type {\n",
              "        vertical-align: middle;\n",
              "    }\n",
              "\n",
              "    .dataframe tbody tr th {\n",
              "        vertical-align: top;\n",
              "    }\n",
              "\n",
              "    .dataframe thead th {\n",
              "        text-align: right;\n",
              "    }\n",
              "</style>\n",
              "<table border=\"1\" class=\"dataframe\">\n",
              "  <thead>\n",
              "    <tr style=\"text-align: right;\">\n",
              "      <th></th>\n",
              "      <th>X</th>\n",
              "      <th>Y</th>\n",
              "      <th>A1</th>\n",
              "      <th>A2</th>\n",
              "      <th>A3</th>\n",
              "      <th>A4</th>\n",
              "      <th>A5</th>\n",
              "      <th>A6</th>\n",
              "      <th>Euclidean Distance Milliwatt</th>\n",
              "    </tr>\n",
              "  </thead>\n",
              "  <tbody>\n",
              "    <tr>\n",
              "      <th>8</th>\n",
              "      <td>2</td>\n",
              "      <td>4</td>\n",
              "      <td>-58.2</td>\n",
              "      <td>-61.2</td>\n",
              "      <td>-59.2</td>\n",
              "      <td>-64.2</td>\n",
              "      <td>-61.8</td>\n",
              "      <td>-65.2</td>\n",
              "      <td>6.877754e-07</td>\n",
              "    </tr>\n",
              "  </tbody>\n",
              "</table>\n",
              "</div>"
            ],
            "text/plain": [
              "   X  Y    A1    A2    A3    A4    A5    A6  Euclidean Distance Milliwatt\n",
              "8  2  4 -58.2 -61.2 -59.2 -64.2 -61.8 -65.2                  6.877754e-07"
            ]
          },
          "metadata": {},
          "output_type": "display_data"
        }
      ],
      "source": [
        "df_means['Euclidean Distance'] = df_means.apply(compute_euclidean_distance, axis=1)\n",
        "df_means['Euclidean Distance Milliwatt'] = df_means.apply(compute_euclidean_distance_mw, axis=1)\n",
        "\n",
        "display(df_means.nsmallest(20, 'Euclidean Distance', 'all')\n",
        "    .loc[:,df_means.columns!=\"Euclidean Distance Milliwatt\"]\n",
        "    .head(1)\n",
        ")\n",
        "display(df_means.nsmallest(20, 'Euclidean Distance Milliwatt', 'all')\n",
        "    .loc[:,df_means.columns!=\"Euclidean Distance\"]\n",
        "    .head(1)\n",
        ")"
      ]
    },
    {
      "cell_type": "markdown",
      "metadata": {},
      "source": [
        "And then we can do the same with the dataset which contains the interpolated values:"
      ]
    },
    {
      "cell_type": "code",
      "execution_count": 162,
      "metadata": {},
      "outputs": [
        {
          "data": {
            "text/html": [
              "<div>\n",
              "<style scoped>\n",
              "    .dataframe tbody tr th:only-of-type {\n",
              "        vertical-align: middle;\n",
              "    }\n",
              "\n",
              "    .dataframe tbody tr th {\n",
              "        vertical-align: top;\n",
              "    }\n",
              "\n",
              "    .dataframe thead th {\n",
              "        text-align: right;\n",
              "    }\n",
              "</style>\n",
              "<table border=\"1\" class=\"dataframe\">\n",
              "  <thead>\n",
              "    <tr style=\"text-align: right;\">\n",
              "      <th></th>\n",
              "      <th>X</th>\n",
              "      <th>Y</th>\n",
              "      <th>A1</th>\n",
              "      <th>A2</th>\n",
              "      <th>A3</th>\n",
              "      <th>A4</th>\n",
              "      <th>A5</th>\n",
              "      <th>A6</th>\n",
              "      <th>Euclidean Distance</th>\n",
              "    </tr>\n",
              "  </thead>\n",
              "  <tbody>\n",
              "    <tr>\n",
              "      <th>0</th>\n",
              "      <td>2.0</td>\n",
              "      <td>3.0</td>\n",
              "      <td>-56.3</td>\n",
              "      <td>-62.2</td>\n",
              "      <td>-57.8</td>\n",
              "      <td>-63.4</td>\n",
              "      <td>-62.8</td>\n",
              "      <td>-65.7</td>\n",
              "      <td>1.28841</td>\n",
              "    </tr>\n",
              "  </tbody>\n",
              "</table>\n",
              "</div>"
            ],
            "text/plain": [
              "     X    Y    A1    A2    A3    A4    A5    A6  Euclidean Distance\n",
              "0  2.0  3.0 -56.3 -62.2 -57.8 -63.4 -62.8 -65.7             1.28841"
            ]
          },
          "metadata": {},
          "output_type": "display_data"
        },
        {
          "data": {
            "text/html": [
              "<div>\n",
              "<style scoped>\n",
              "    .dataframe tbody tr th:only-of-type {\n",
              "        vertical-align: middle;\n",
              "    }\n",
              "\n",
              "    .dataframe tbody tr th {\n",
              "        vertical-align: top;\n",
              "    }\n",
              "\n",
              "    .dataframe thead th {\n",
              "        text-align: right;\n",
              "    }\n",
              "</style>\n",
              "<table border=\"1\" class=\"dataframe\">\n",
              "  <thead>\n",
              "    <tr style=\"text-align: right;\">\n",
              "      <th></th>\n",
              "      <th>X</th>\n",
              "      <th>Y</th>\n",
              "      <th>A1</th>\n",
              "      <th>A2</th>\n",
              "      <th>A3</th>\n",
              "      <th>A4</th>\n",
              "      <th>A5</th>\n",
              "      <th>A6</th>\n",
              "      <th>Euclidean Distance Milliwatt</th>\n",
              "    </tr>\n",
              "  </thead>\n",
              "  <tbody>\n",
              "    <tr>\n",
              "      <th>0</th>\n",
              "      <td>2.0</td>\n",
              "      <td>3.0</td>\n",
              "      <td>-56.3</td>\n",
              "      <td>-62.2</td>\n",
              "      <td>-57.8</td>\n",
              "      <td>-63.4</td>\n",
              "      <td>-62.8</td>\n",
              "      <td>-65.7</td>\n",
              "      <td>3.768190e-07</td>\n",
              "    </tr>\n",
              "  </tbody>\n",
              "</table>\n",
              "</div>"
            ],
            "text/plain": [
              "     X    Y    A1    A2    A3    A4    A5    A6  Euclidean Distance Milliwatt\n",
              "0  2.0  3.0 -56.3 -62.2 -57.8 -63.4 -62.8 -65.7                  3.768190e-07"
            ]
          },
          "metadata": {},
          "output_type": "display_data"
        }
      ],
      "source": [
        "df_interpolation['Euclidean Distance'] = df_interpolation.apply(compute_euclidean_distance, axis=1)\n",
        "df_interpolation['Euclidean Distance Milliwatt'] = df_interpolation.apply(compute_euclidean_distance_mw, axis=1)\n",
        "display(df_interpolation.nsmallest(20, 'Euclidean Distance', 'all')\n",
        "    .loc[:,df.columns!=\"Euclidean Distance Milliwatt\"]\n",
        "    .head(1)\n",
        ")\n",
        "display(df_interpolation.nsmallest(20, 'Euclidean Distance Milliwatt', 'all')\n",
        "    .loc[:,df.columns!=\"Euclidean Distance\"]\n",
        "    .head(1)\n",
        ")"
      ]
    },
    {
      "cell_type": "markdown",
      "metadata": {},
      "source": [
        "### K-Nearest Neighbors"
      ]
    },
    {
      "cell_type": "markdown",
      "metadata": {},
      "source": [
        "We'll apply the typical machine learning division: 30% training, 70% testing."
      ]
    },
    {
      "cell_type": "code",
      "execution_count": 163,
      "metadata": {},
      "outputs": [
        {
          "ename": "KeyError",
          "evalue": "'Y'",
          "output_type": "error",
          "traceback": [
            "\u001b[0;31m---------------------------------------------------------------------------\u001b[0m",
            "\u001b[0;31mKeyError\u001b[0m                                  Traceback (most recent call last)",
            "File \u001b[0;32m~/finding-dory/venv/lib/python3.9/site-packages/pandas/core/indexes/base.py:3621\u001b[0m, in \u001b[0;36mIndex.get_loc\u001b[0;34m(self, key, method, tolerance)\u001b[0m\n\u001b[1;32m   3620\u001b[0m \u001b[39mtry\u001b[39;00m:\n\u001b[0;32m-> 3621\u001b[0m     \u001b[39mreturn\u001b[39;00m \u001b[39mself\u001b[39;49m\u001b[39m.\u001b[39;49m_engine\u001b[39m.\u001b[39;49mget_loc(casted_key)\n\u001b[1;32m   3622\u001b[0m \u001b[39mexcept\u001b[39;00m \u001b[39mKeyError\u001b[39;00m \u001b[39mas\u001b[39;00m err:\n",
            "File \u001b[0;32m~/finding-dory/venv/lib/python3.9/site-packages/pandas/_libs/index.pyx:136\u001b[0m, in \u001b[0;36mpandas._libs.index.IndexEngine.get_loc\u001b[0;34m()\u001b[0m\n",
            "File \u001b[0;32m~/finding-dory/venv/lib/python3.9/site-packages/pandas/_libs/index.pyx:144\u001b[0m, in \u001b[0;36mpandas._libs.index.IndexEngine.get_loc\u001b[0;34m()\u001b[0m\n",
            "File \u001b[0;32mpandas/_libs/index_class_helper.pxi:41\u001b[0m, in \u001b[0;36mpandas._libs.index.Int64Engine._check_type\u001b[0;34m()\u001b[0m\n",
            "\u001b[0;31mKeyError\u001b[0m: 'Y'",
            "\nThe above exception was the direct cause of the following exception:\n",
            "\u001b[0;31mKeyError\u001b[0m                                  Traceback (most recent call last)",
            "\u001b[1;32m/Users/francesco/finding-dory/localization.ipynb Cell 22'\u001b[0m in \u001b[0;36m<cell line: 9>\u001b[0;34m()\u001b[0m\n\u001b[1;32m      <a href='vscode-notebook-cell:/Users/francesco/finding-dory/localization.ipynb#ch0000021?line=5'>6</a>\u001b[0m scaler \u001b[39m=\u001b[39m StandardScaler();\n\u001b[1;32m      <a href='vscode-notebook-cell:/Users/francesco/finding-dory/localization.ipynb#ch0000021?line=7'>8</a>\u001b[0m X \u001b[39m=\u001b[39m df_interpolation\n\u001b[0;32m----> <a href='vscode-notebook-cell:/Users/francesco/finding-dory/localization.ipynb#ch0000021?line=8'>9</a>\u001b[0m Y \u001b[39m=\u001b[39m X[\u001b[39m'\u001b[39;49m\u001b[39mX\u001b[39;49m\u001b[39m'\u001b[39;49m][\u001b[39m'\u001b[39;49m\u001b[39mY\u001b[39;49m\u001b[39m'\u001b[39;49m];\n\u001b[1;32m     <a href='vscode-notebook-cell:/Users/francesco/finding-dory/localization.ipynb#ch0000021?line=9'>10</a>\u001b[0m X \u001b[39m=\u001b[39m X\u001b[39m.\u001b[39mdrop(\u001b[39m'\u001b[39m\u001b[39mgt\u001b[39m\u001b[39m'\u001b[39m,axis\u001b[39m=\u001b[39m\u001b[39m1\u001b[39m);\n\u001b[1;32m     <a href='vscode-notebook-cell:/Users/francesco/finding-dory/localization.ipynb#ch0000021?line=11'>12</a>\u001b[0m X_norm \u001b[39m=\u001b[39m scaler\u001b[39m.\u001b[39mfit_transform(X);\n",
            "File \u001b[0;32m~/finding-dory/venv/lib/python3.9/site-packages/pandas/core/series.py:958\u001b[0m, in \u001b[0;36mSeries.__getitem__\u001b[0;34m(self, key)\u001b[0m\n\u001b[1;32m    955\u001b[0m     \u001b[39mreturn\u001b[39;00m \u001b[39mself\u001b[39m\u001b[39m.\u001b[39m_values[key]\n\u001b[1;32m    957\u001b[0m \u001b[39melif\u001b[39;00m key_is_scalar:\n\u001b[0;32m--> 958\u001b[0m     \u001b[39mreturn\u001b[39;00m \u001b[39mself\u001b[39;49m\u001b[39m.\u001b[39;49m_get_value(key)\n\u001b[1;32m    960\u001b[0m \u001b[39mif\u001b[39;00m is_hashable(key):\n\u001b[1;32m    961\u001b[0m     \u001b[39m# Otherwise index.get_value will raise InvalidIndexError\u001b[39;00m\n\u001b[1;32m    962\u001b[0m     \u001b[39mtry\u001b[39;00m:\n\u001b[1;32m    963\u001b[0m         \u001b[39m# For labels that don't resolve as scalars like tuples and frozensets\u001b[39;00m\n",
            "File \u001b[0;32m~/finding-dory/venv/lib/python3.9/site-packages/pandas/core/series.py:1069\u001b[0m, in \u001b[0;36mSeries._get_value\u001b[0;34m(self, label, takeable)\u001b[0m\n\u001b[1;32m   1066\u001b[0m     \u001b[39mreturn\u001b[39;00m \u001b[39mself\u001b[39m\u001b[39m.\u001b[39m_values[label]\n\u001b[1;32m   1068\u001b[0m \u001b[39m# Similar to Index.get_value, but we do not fall back to positional\u001b[39;00m\n\u001b[0;32m-> 1069\u001b[0m loc \u001b[39m=\u001b[39m \u001b[39mself\u001b[39;49m\u001b[39m.\u001b[39;49mindex\u001b[39m.\u001b[39;49mget_loc(label)\n\u001b[1;32m   1070\u001b[0m \u001b[39mreturn\u001b[39;00m \u001b[39mself\u001b[39m\u001b[39m.\u001b[39mindex\u001b[39m.\u001b[39m_get_values_for_loc(\u001b[39mself\u001b[39m, loc, label)\n",
            "File \u001b[0;32m~/finding-dory/venv/lib/python3.9/site-packages/pandas/core/indexes/base.py:3623\u001b[0m, in \u001b[0;36mIndex.get_loc\u001b[0;34m(self, key, method, tolerance)\u001b[0m\n\u001b[1;32m   3621\u001b[0m     \u001b[39mreturn\u001b[39;00m \u001b[39mself\u001b[39m\u001b[39m.\u001b[39m_engine\u001b[39m.\u001b[39mget_loc(casted_key)\n\u001b[1;32m   3622\u001b[0m \u001b[39mexcept\u001b[39;00m \u001b[39mKeyError\u001b[39;00m \u001b[39mas\u001b[39;00m err:\n\u001b[0;32m-> 3623\u001b[0m     \u001b[39mraise\u001b[39;00m \u001b[39mKeyError\u001b[39;00m(key) \u001b[39mfrom\u001b[39;00m \u001b[39merr\u001b[39;00m\n\u001b[1;32m   3624\u001b[0m \u001b[39mexcept\u001b[39;00m \u001b[39mTypeError\u001b[39;00m:\n\u001b[1;32m   3625\u001b[0m     \u001b[39m# If we have a listlike key, _check_indexing_error will raise\u001b[39;00m\n\u001b[1;32m   3626\u001b[0m     \u001b[39m#  InvalidIndexError. Otherwise we fall through and re-raise\u001b[39;00m\n\u001b[1;32m   3627\u001b[0m     \u001b[39m#  the TypeError.\u001b[39;00m\n\u001b[1;32m   3628\u001b[0m     \u001b[39mself\u001b[39m\u001b[39m.\u001b[39m_check_indexing_error(key)\n",
            "\u001b[0;31mKeyError\u001b[0m: 'Y'"
          ]
        }
      ],
      "source": [
        "from sklearn.preprocessing import StandardScaler\n",
        "from sklearn.model_selection import train_test_split\n",
        "from sklearn.neighbors import KNeighborsClassifier\n",
        "from sklearn.metrics import accuracy_score, ConfusionMatrixDisplay\n",
        "\n",
        "scaler = StandardScaler();\n",
        "\n",
        "X = df_interpolation\n",
        "Y = X['X']['Y'];\n",
        "X = X.drop('gt',axis=1);\n",
        "\n",
        "X_norm = scaler.fit_transform(X);\n",
        "\n",
        "X_train, X_test, y_train, y_test = train_test_split(X_norm, Y, test_size=0.5)\n",
        "\n",
        "ACCURACY = []\n",
        "for k in range(1,10):\n",
        "  knn = KNeighborsClassifier(n_neighbors=k, weights='distance')\n",
        "  knn.fit(X_train, y_train)\n",
        "  knn_predict = knn.predict(X_test)\n",
        "  accuracy = accuracy_score(y_test, knn_predict)\n",
        "  ACCURACY.append(accuracy)\n",
        "  print(accuracy)\n",
        "\n",
        "bestk = np.argmax(ACCURACY)+1\n",
        "knn = KNeighborsClassifier(n_neighbors=bestk, weights='distance')\n",
        "knn.fit(X_train, y_train)\n",
        "knn_predict = knn.predict(X_test)\n",
        "fig, ax = plt.subplots(figsize=(15, 15));\n",
        "ConfusionMatrixDisplay.from_predictions(knn_predict, y_test, ax=ax, normalize='true');\n",
        "\n",
        "fig = plt.figure();\n",
        "plt.plot(range(1,10),ACCURACY);\n",
        "plt.grid(visible=True);\n",
        "plt.xlabel('K');\n",
        "plt.ylabel('Accuracy');\n"
      ]
    }
  ],
  "metadata": {
    "colab": {
      "collapsed_sections": [
        "s7qPERDyE_aJ",
        "i_OrSUZ5RJsI",
        "P9KeoJJbtwMI",
        "Cu2IxE1cxDVe"
      ],
      "name": "finding dory - Localization",
      "provenance": []
    },
    "kernelspec": {
      "display_name": "Python 3.9.13 ('venv': venv)",
      "language": "python",
      "name": "python3"
    },
    "language_info": {
      "codemirror_mode": {
        "name": "ipython",
        "version": 3
      },
      "file_extension": ".py",
      "mimetype": "text/x-python",
      "name": "python",
      "nbconvert_exporter": "python",
      "pygments_lexer": "ipython3",
      "version": "3.9.13"
    },
    "vscode": {
      "interpreter": {
        "hash": "de643e13b9942cf28225ad9514720f3804453331ce29941d95641e2b41e79098"
      }
    }
  },
  "nbformat": 4,
  "nbformat_minor": 0
}
