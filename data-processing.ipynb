{
 "cells": [
  {
   "cell_type": "markdown",
   "metadata": {},
   "source": [
    "# Data Processing Steps\n",
    "## MQTT\n",
    "Using the `capture.py` scripts located in the `mqtt` subdirectory, we subscribed to every topic available on the given server and we listened for messages for a 30 minutes timeframe. The script then saved the output of the capture to a `.json` file ready to be processed."
   ]
  },
  {
   "cell_type": "markdown",
   "metadata": {},
   "source": [
    "### Step 1: Removing Duplicates\n",
    "First we want to remove duplicates from both MQTT and COAP captures, and then we want to merge the results.\n",
    "To process the MQTT capture, which is located at `mqtt/data.json`, we'll use the following code block:"
   ]
  },
  {
   "cell_type": "code",
   "execution_count": 2,
   "metadata": {},
   "outputs": [
    {
     "name": "stdout",
     "output_type": "stream",
     "text": [
      "Number of messages captured: 3202\n",
      "Number of messages captured after removing duplicates: 289\n"
     ]
    }
   ],
   "source": [
    "from json import load\n",
    "\n",
    "\n",
    "def remove_duplicates(data):\n",
    "    res = []\n",
    "    for msg in data:\n",
    "        if msg not in res:\n",
    "            res.append(msg)\n",
    "    return res\n",
    "\n",
    "# opening file located at mqtt/data.json\n",
    "messages = dict()\n",
    "filepath = \"mqtt/data.json\"\n",
    "with open(filepath, \"r\") as f:\n",
    "    messages = load(f)[\"messages\"]\n",
    "\n",
    "print(\"Number of messages captured: %d\" % len(messages))\n",
    "messages = remove_duplicates(messages)\n",
    "print(\"Number of messages captured after removing duplicates: %d\" % len(messages))"
   ]
  },
  {
   "cell_type": "markdown",
   "metadata": {},
   "source": [
    "### Step 2: Filtering out bad coordinates\n",
    "Now we can select coordinates which are actually useful. For this task we choose to remove all messages with a payload which either is not a coordinate or has out of bounds coordinates."
   ]
  },
  {
   "cell_type": "code",
   "execution_count": 3,
   "metadata": {},
   "outputs": [
    {
     "name": "stdout",
     "output_type": "stream",
     "text": [
      "289\n",
      "Number of messages captured after removing junk values: 15\n"
     ]
    }
   ],
   "source": [
    "from json import load\n",
    "from re import findall, search\n",
    "\n",
    "print(len(messages))\n",
    "def filter_data(data):\n",
    "    res = []\n",
    "    bounds = [0, 10]\n",
    "    for msg in data:\n",
    "        if msg[\"payload\"].count(\"|\") == 6:\n",
    "\n",
    "            # the first 7 characters are the two decimal values with\n",
    "            # one decimal digit, separated by a comma that we want to\n",
    "            # parse as coordinates\n",
    "            coords_regex = r\"(\\d+\\.\\d+),(\\d+\\.\\d+)\"\n",
    "            if search(coords_regex, msg[\"payload\"]) is None:\n",
    "                continue\n",
    "            x, y = findall(coords_regex, msg[\"payload\"])[0]\n",
    "            # now we check if either coordinate is out of bound\n",
    "            if (\n",
    "                (float(x) >= bounds[0] and float(x) <= bounds[1])\n",
    "                and (float(y) >= bounds[0] or float(y) <= bounds[1])\n",
    "            ):\n",
    "                res.append(msg)\n",
    "    return res\n",
    "\n",
    "messages = filter_data(messages)\n",
    "messages = remove_duplicates(messages)\n",
    "print(\"Number of messages captured after removing junk values: %d\" % len(messages))"
   ]
  },
  {
   "cell_type": "code",
   "execution_count": null,
   "metadata": {},
   "outputs": [],
   "source": []
  },
  {
   "cell_type": "markdown",
   "metadata": {},
   "source": [
    "### Step 3: Manual Cleanup\n",
    "Now that we have only valid coordinates, we can manually select just the ones that actually belong to Dory."
   ]
  },
  {
   "cell_type": "code",
   "execution_count": 5,
   "metadata": {},
   "outputs": [
    {
     "data": {
      "text/html": [
       "<pre style=\"white-space:pre;overflow-x:auto;line-height:normal;font-family:Menlo,'DejaVu Sans Mono',consolas,'Courier New',monospace\"><span style=\"font-weight: bold\">{</span>\n",
       "  <span style=\"color: #000080; text-decoration-color: #000080; font-weight: bold\">\"topic\"</span>: <span style=\"color: #008000; text-decoration-color: #008000\">\"/wierd/topic/isnt/it\"</span>,\n",
       "  <span style=\"color: #000080; text-decoration-color: #000080; font-weight: bold\">\"payload\"</span>: <span style=\"color: #008000; text-decoration-color: #008000\">\"4.0,6.0|-63,-62,-63,-62,-63|-61,-60,-61,-65,-61|-62,-60,-62,-61,-61|-65,-63,-65,-63,-64|-59,-57,-59,-57,-58|-63,-62,-63,-62,-63\"</span>,\n",
       "  <span style=\"color: #000080; text-decoration-color: #000080; font-weight: bold\">\"qos\"</span>: <span style=\"color: #008080; text-decoration-color: #008080; font-weight: bold\">0</span>,\n",
       "  <span style=\"color: #000080; text-decoration-color: #000080; font-weight: bold\">\"retain\"</span>: <span style=\"color: #008080; text-decoration-color: #008080; font-weight: bold\">0</span>\n",
       "<span style=\"font-weight: bold\">}</span>\n",
       "</pre>\n"
      ],
      "text/plain": [
       "\u001b[1m{\u001b[0m\n",
       "  \u001b[1;34m\"topic\"\u001b[0m: \u001b[32m\"/wierd/topic/isnt/it\"\u001b[0m,\n",
       "  \u001b[1;34m\"payload\"\u001b[0m: \u001b[32m\"4.0,6.0|-63,-62,-63,-62,-63|-61,-60,-61,-65,-61|-62,-60,-62,-61,-61|-65,-63,-65,-63,-64|-59,-57,-59,-57,-58|-63,-62,-63,-62,-63\"\u001b[0m,\n",
       "  \u001b[1;34m\"qos\"\u001b[0m: \u001b[1;36m0\u001b[0m,\n",
       "  \u001b[1;34m\"retain\"\u001b[0m: \u001b[1;36m0\u001b[0m\n",
       "\u001b[1m}\u001b[0m\n"
      ]
     },
     "metadata": {},
     "output_type": "display_data"
    },
    {
     "data": {
      "text/html": [
       "<pre style=\"white-space:pre;overflow-x:auto;line-height:normal;font-family:Menlo,'DejaVu Sans Mono',consolas,'Courier New',monospace\"><span style=\"font-weight: bold\">{</span>\n",
       "  <span style=\"color: #000080; text-decoration-color: #000080; font-weight: bold\">\"topic\"</span>: <span style=\"color: #008000; text-decoration-color: #008000\">\"find/this/hidden/dory/here\"</span>,\n",
       "  <span style=\"color: #000080; text-decoration-color: #000080; font-weight: bold\">\"payload\"</span>: <span style=\"color: #008000; text-decoration-color: #008000\">\"0.0,8.0|-63,-60,-60,-59,-64|-51,-49,-47,-48,-53|-64,-62,-67,-61,-66|-67,-66,-64,-63,-68|-59,-57,-58,-56,-61|-65,-63,-64,-62,-66\"</span>,\n",
       "  <span style=\"color: #000080; text-decoration-color: #000080; font-weight: bold\">\"qos\"</span>: <span style=\"color: #008080; text-decoration-color: #008080; font-weight: bold\">0</span>,\n",
       "  <span style=\"color: #000080; text-decoration-color: #000080; font-weight: bold\">\"retain\"</span>: <span style=\"color: #008080; text-decoration-color: #008080; font-weight: bold\">0</span>\n",
       "<span style=\"font-weight: bold\">}</span>\n",
       "</pre>\n"
      ],
      "text/plain": [
       "\u001b[1m{\u001b[0m\n",
       "  \u001b[1;34m\"topic\"\u001b[0m: \u001b[32m\"find/this/hidden/dory/here\"\u001b[0m,\n",
       "  \u001b[1;34m\"payload\"\u001b[0m: \u001b[32m\"0.0,8.0|-63,-60,-60,-59,-64|-51,-49,-47,-48,-53|-64,-62,-67,-61,-66|-67,-66,-64,-63,-68|-59,-57,-58,-56,-61|-65,-63,-64,-62,-66\"\u001b[0m,\n",
       "  \u001b[1;34m\"qos\"\u001b[0m: \u001b[1;36m0\u001b[0m,\n",
       "  \u001b[1;34m\"retain\"\u001b[0m: \u001b[1;36m0\u001b[0m\n",
       "\u001b[1m}\u001b[0m\n"
      ]
     },
     "metadata": {},
     "output_type": "display_data"
    },
    {
     "data": {
      "text/html": [
       "<pre style=\"white-space:pre;overflow-x:auto;line-height:normal;font-family:Menlo,'DejaVu Sans Mono',consolas,'Courier New',monospace\"><span style=\"font-weight: bold\">{</span>\n",
       "  <span style=\"color: #000080; text-decoration-color: #000080; font-weight: bold\">\"topic\"</span>: <span style=\"color: #008000; text-decoration-color: #008000\">\"/dory/has/been/here\"</span>,\n",
       "  <span style=\"color: #000080; text-decoration-color: #000080; font-weight: bold\">\"payload\"</span>: <span style=\"color: #008000; text-decoration-color: #008000\">\"6.0,4.0|-63,-61,-65,-63,-64|-64,-63,-64,-65,-65|-58,-56,-58,-59,-59|-62,-59,-61,-61,-62|-62,-60,-61,-62,-62|-65,-61,-63,-63,-64\"</span>,\n",
       "  <span style=\"color: #000080; text-decoration-color: #000080; font-weight: bold\">\"qos\"</span>: <span style=\"color: #008080; text-decoration-color: #008080; font-weight: bold\">0</span>,\n",
       "  <span style=\"color: #000080; text-decoration-color: #000080; font-weight: bold\">\"retain\"</span>: <span style=\"color: #008080; text-decoration-color: #008080; font-weight: bold\">0</span>\n",
       "<span style=\"font-weight: bold\">}</span>\n",
       "</pre>\n"
      ],
      "text/plain": [
       "\u001b[1m{\u001b[0m\n",
       "  \u001b[1;34m\"topic\"\u001b[0m: \u001b[32m\"/dory/has/been/here\"\u001b[0m,\n",
       "  \u001b[1;34m\"payload\"\u001b[0m: \u001b[32m\"6.0,4.0|-63,-61,-65,-63,-64|-64,-63,-64,-65,-65|-58,-56,-58,-59,-59|-62,-59,-61,-61,-62|-62,-60,-61,-62,-62|-65,-61,-63,-63,-64\"\u001b[0m,\n",
       "  \u001b[1;34m\"qos\"\u001b[0m: \u001b[1;36m0\u001b[0m,\n",
       "  \u001b[1;34m\"retain\"\u001b[0m: \u001b[1;36m0\u001b[0m\n",
       "\u001b[1m}\u001b[0m\n"
      ]
     },
     "metadata": {},
     "output_type": "display_data"
    },
    {
     "data": {
      "text/html": [
       "<pre style=\"white-space:pre;overflow-x:auto;line-height:normal;font-family:Menlo,'DejaVu Sans Mono',consolas,'Courier New',monospace\"><span style=\"font-weight: bold\">{</span>\n",
       "  <span style=\"color: #000080; text-decoration-color: #000080; font-weight: bold\">\"topic\"</span>: <span style=\"color: #008000; text-decoration-color: #008000\">\"find/this/hidden/dory/there\"</span>,\n",
       "  <span style=\"color: #000080; text-decoration-color: #000080; font-weight: bold\">\"payload\"</span>: <span style=\"color: #008000; text-decoration-color: #008000\">\"0.0,10.0|-69,-64,-67,-65,-65|-19,-24,-25,-25,-25|-60,-65,-69,-66,-66|-62,-67,-70,-68,-68|-53,-58,-61,-59,-59|-59,-64,-67,-65,-65\"</span>,\n",
       "  <span style=\"color: #000080; text-decoration-color: #000080; font-weight: bold\">\"qos\"</span>: <span style=\"color: #008080; text-decoration-color: #008080; font-weight: bold\">0</span>,\n",
       "  <span style=\"color: #000080; text-decoration-color: #000080; font-weight: bold\">\"retain\"</span>: <span style=\"color: #008080; text-decoration-color: #008080; font-weight: bold\">0</span>\n",
       "<span style=\"font-weight: bold\">}</span>\n",
       "</pre>\n"
      ],
      "text/plain": [
       "\u001b[1m{\u001b[0m\n",
       "  \u001b[1;34m\"topic\"\u001b[0m: \u001b[32m\"find/this/hidden/dory/there\"\u001b[0m,\n",
       "  \u001b[1;34m\"payload\"\u001b[0m: \u001b[32m\"0.0,10.0|-69,-64,-67,-65,-65|-19,-24,-25,-25,-25|-60,-65,-69,-66,-66|-62,-67,-70,-68,-68|-53,-58,-61,-59,-59|-59,-64,-67,-65,-65\"\u001b[0m,\n",
       "  \u001b[1;34m\"qos\"\u001b[0m: \u001b[1;36m0\u001b[0m,\n",
       "  \u001b[1;34m\"retain\"\u001b[0m: \u001b[1;36m0\u001b[0m\n",
       "\u001b[1m}\u001b[0m\n"
      ]
     },
     "metadata": {},
     "output_type": "display_data"
    },
    {
     "data": {
      "text/html": [
       "<pre style=\"white-space:pre;overflow-x:auto;line-height:normal;font-family:Menlo,'DejaVu Sans Mono',consolas,'Courier New',monospace\"><span style=\"font-weight: bold\">{</span>\n",
       "  <span style=\"color: #000080; text-decoration-color: #000080; font-weight: bold\">\"topic\"</span>: <span style=\"color: #008000; text-decoration-color: #008000\">\"hey/dory/where/are/u\"</span>,\n",
       "  <span style=\"color: #000080; text-decoration-color: #000080; font-weight: bold\">\"payload\"</span>: <span style=\"color: #008000; text-decoration-color: #008000\">\"2.0,8.0|-61,-59,-63,-67,-65|-52,-53,-54,-58,-56|-61,-59,-64,-67,-65|-63,-62,-66,-69,-68|-54,-55,-56,-60,-58|-61,-59,-63,-67,-65\"</span>,\n",
       "  <span style=\"color: #000080; text-decoration-color: #000080; font-weight: bold\">\"qos\"</span>: <span style=\"color: #008080; text-decoration-color: #008080; font-weight: bold\">0</span>,\n",
       "  <span style=\"color: #000080; text-decoration-color: #000080; font-weight: bold\">\"retain\"</span>: <span style=\"color: #008080; text-decoration-color: #008080; font-weight: bold\">0</span>\n",
       "<span style=\"font-weight: bold\">}</span>\n",
       "</pre>\n"
      ],
      "text/plain": [
       "\u001b[1m{\u001b[0m\n",
       "  \u001b[1;34m\"topic\"\u001b[0m: \u001b[32m\"hey/dory/where/are/u\"\u001b[0m,\n",
       "  \u001b[1;34m\"payload\"\u001b[0m: \u001b[32m\"2.0,8.0|-61,-59,-63,-67,-65|-52,-53,-54,-58,-56|-61,-59,-64,-67,-65|-63,-62,-66,-69,-68|-54,-55,-56,-60,-58|-61,-59,-63,-67,-65\"\u001b[0m,\n",
       "  \u001b[1;34m\"qos\"\u001b[0m: \u001b[1;36m0\u001b[0m,\n",
       "  \u001b[1;34m\"retain\"\u001b[0m: \u001b[1;36m0\u001b[0m\n",
       "\u001b[1m}\u001b[0m\n"
      ]
     },
     "metadata": {},
     "output_type": "display_data"
    },
    {
     "data": {
      "text/html": [
       "<pre style=\"white-space:pre;overflow-x:auto;line-height:normal;font-family:Menlo,'DejaVu Sans Mono',consolas,'Courier New',monospace\"><span style=\"font-weight: bold\">{</span>\n",
       "  <span style=\"color: #000080; text-decoration-color: #000080; font-weight: bold\">\"topic\"</span>: <span style=\"color: #008000; text-decoration-color: #008000\">\"find/this/hidden/dory/over/there\"</span>,\n",
       "  <span style=\"color: #000080; text-decoration-color: #000080; font-weight: bold\">\"payload\"</span>: <span style=\"color: #008000; text-decoration-color: #008000\">\"2.0,0.0|-55,-51,-50,-50,-57|-69,-65,-64,-64,-71|-58,-55,-53,-54,-60|-67,-63,-62,-64,-69|-69,-66,-64,-64,-71|-71,-67,-66,-66,-73\"</span>,\n",
       "  <span style=\"color: #000080; text-decoration-color: #000080; font-weight: bold\">\"qos\"</span>: <span style=\"color: #008080; text-decoration-color: #008080; font-weight: bold\">0</span>,\n",
       "  <span style=\"color: #000080; text-decoration-color: #000080; font-weight: bold\">\"retain\"</span>: <span style=\"color: #008080; text-decoration-color: #008080; font-weight: bold\">0</span>\n",
       "<span style=\"font-weight: bold\">}</span>\n",
       "</pre>\n"
      ],
      "text/plain": [
       "\u001b[1m{\u001b[0m\n",
       "  \u001b[1;34m\"topic\"\u001b[0m: \u001b[32m\"find/this/hidden/dory/over/there\"\u001b[0m,\n",
       "  \u001b[1;34m\"payload\"\u001b[0m: \u001b[32m\"2.0,0.0|-55,-51,-50,-50,-57|-69,-65,-64,-64,-71|-58,-55,-53,-54,-60|-67,-63,-62,-64,-69|-69,-66,-64,-64,-71|-71,-67,-66,-66,-73\"\u001b[0m,\n",
       "  \u001b[1;34m\"qos\"\u001b[0m: \u001b[1;36m0\u001b[0m,\n",
       "  \u001b[1;34m\"retain\"\u001b[0m: \u001b[1;36m0\u001b[0m\n",
       "\u001b[1m}\u001b[0m\n"
      ]
     },
     "metadata": {},
     "output_type": "display_data"
    },
    {
     "data": {
      "text/html": [
       "<pre style=\"white-space:pre;overflow-x:auto;line-height:normal;font-family:Menlo,'DejaVu Sans Mono',consolas,'Courier New',monospace\"><span style=\"font-weight: bold\">{</span>\n",
       "  <span style=\"color: #000080; text-decoration-color: #000080; font-weight: bold\">\"topic\"</span>: <span style=\"color: #008000; text-decoration-color: #008000\">\"please/dory/come/back/home\"</span>,\n",
       "  <span style=\"color: #000080; text-decoration-color: #000080; font-weight: bold\">\"payload\"</span>: <span style=\"color: #008000; text-decoration-color: #008000\">\"4.0,2.0|-60,-60,-63,-58,-59|-66,-66,-69,-64,-65|-54,-54,-58,-53,-53|-63,-63,-66,-61,-62|-65,-65,-68,-63,-64|-67,-67,-70,-65,-66\"</span>,\n",
       "  <span style=\"color: #000080; text-decoration-color: #000080; font-weight: bold\">\"qos\"</span>: <span style=\"color: #008080; text-decoration-color: #008080; font-weight: bold\">0</span>,\n",
       "  <span style=\"color: #000080; text-decoration-color: #000080; font-weight: bold\">\"retain\"</span>: <span style=\"color: #008080; text-decoration-color: #008080; font-weight: bold\">0</span>\n",
       "<span style=\"font-weight: bold\">}</span>\n",
       "</pre>\n"
      ],
      "text/plain": [
       "\u001b[1m{\u001b[0m\n",
       "  \u001b[1;34m\"topic\"\u001b[0m: \u001b[32m\"please/dory/come/back/home\"\u001b[0m,\n",
       "  \u001b[1;34m\"payload\"\u001b[0m: \u001b[32m\"4.0,2.0|-60,-60,-63,-58,-59|-66,-66,-69,-64,-65|-54,-54,-58,-53,-53|-63,-63,-66,-61,-62|-65,-65,-68,-63,-64|-67,-67,-70,-65,-66\"\u001b[0m,\n",
       "  \u001b[1;34m\"qos\"\u001b[0m: \u001b[1;36m0\u001b[0m,\n",
       "  \u001b[1;34m\"retain\"\u001b[0m: \u001b[1;36m0\u001b[0m\n",
       "\u001b[1m}\u001b[0m\n"
      ]
     },
     "metadata": {},
     "output_type": "display_data"
    },
    {
     "data": {
      "text/html": [
       "<pre style=\"white-space:pre;overflow-x:auto;line-height:normal;font-family:Menlo,'DejaVu Sans Mono',consolas,'Courier New',monospace\"><span style=\"font-weight: bold\">{</span>\n",
       "  <span style=\"color: #000080; text-decoration-color: #000080; font-weight: bold\">\"topic\"</span>: <span style=\"color: #008000; text-decoration-color: #008000\">\"cant/be/a/valid/entry\"</span>,\n",
       "  <span style=\"color: #000080; text-decoration-color: #000080; font-weight: bold\">\"payload\"</span>: <span style=\"color: #008000; text-decoration-color: #008000\">\"0.0,1.0|+66,+64,+60,+66,+69|+64,+62,+58,+64,+67|+63,+62,+57,+63,+66|+62,+60,+56,+62,+65|+58,+57,+53,+58,+1|+50,+48,+44,+50,+53\"</span>,\n",
       "  <span style=\"color: #000080; text-decoration-color: #000080; font-weight: bold\">\"qos\"</span>: <span style=\"color: #008080; text-decoration-color: #008080; font-weight: bold\">0</span>,\n",
       "  <span style=\"color: #000080; text-decoration-color: #000080; font-weight: bold\">\"retain\"</span>: <span style=\"color: #008080; text-decoration-color: #008080; font-weight: bold\">0</span>\n",
       "<span style=\"font-weight: bold\">}</span>\n",
       "</pre>\n"
      ],
      "text/plain": [
       "\u001b[1m{\u001b[0m\n",
       "  \u001b[1;34m\"topic\"\u001b[0m: \u001b[32m\"cant/be/a/valid/entry\"\u001b[0m,\n",
       "  \u001b[1;34m\"payload\"\u001b[0m: \u001b[32m\"0.0,1.0|+66,+64,+60,+66,+69|+64,+62,+58,+64,+67|+63,+62,+57,+63,+66|+62,+60,+56,+62,+65|+58,+57,+53,+58,+1|+50,+48,+44,+50,+53\"\u001b[0m,\n",
       "  \u001b[1;34m\"qos\"\u001b[0m: \u001b[1;36m0\u001b[0m,\n",
       "  \u001b[1;34m\"retain\"\u001b[0m: \u001b[1;36m0\u001b[0m\n",
       "\u001b[1m}\u001b[0m\n"
      ]
     },
     "metadata": {},
     "output_type": "display_data"
    },
    {
     "data": {
      "text/html": [
       "<pre style=\"white-space:pre;overflow-x:auto;line-height:normal;font-family:Menlo,'DejaVu Sans Mono',consolas,'Courier New',monospace\"><span style=\"font-weight: bold\">{</span>\n",
       "  <span style=\"color: #000080; text-decoration-color: #000080; font-weight: bold\">\"topic\"</span>: <span style=\"color: #008000; text-decoration-color: #008000\">\"hi/nemo/wassup/\"</span>,\n",
       "  <span style=\"color: #000080; text-decoration-color: #000080; font-weight: bold\">\"payload\"</span>: <span style=\"color: #008000; text-decoration-color: #008000\">\"8.0,6.0|-62,-66,-68,-59,-65|-61,-65,-67,-58,-64|-59,-62,-65,-55,-62|-58,-62,-64,-55,-61|-56,-60,-62,-53,-49|-55,-59,-61,-52,-59\"</span>,\n",
       "  <span style=\"color: #000080; text-decoration-color: #000080; font-weight: bold\">\"qos\"</span>: <span style=\"color: #008080; text-decoration-color: #008080; font-weight: bold\">0</span>,\n",
       "  <span style=\"color: #000080; text-decoration-color: #000080; font-weight: bold\">\"retain\"</span>: <span style=\"color: #008080; text-decoration-color: #008080; font-weight: bold\">0</span>\n",
       "<span style=\"font-weight: bold\">}</span>\n",
       "</pre>\n"
      ],
      "text/plain": [
       "\u001b[1m{\u001b[0m\n",
       "  \u001b[1;34m\"topic\"\u001b[0m: \u001b[32m\"hi/nemo/wassup/\"\u001b[0m,\n",
       "  \u001b[1;34m\"payload\"\u001b[0m: \u001b[32m\"8.0,6.0|-62,-66,-68,-59,-65|-61,-65,-67,-58,-64|-59,-62,-65,-55,-62|-58,-62,-64,-55,-61|-56,-60,-62,-53,-49|-55,-59,-61,-52,-59\"\u001b[0m,\n",
       "  \u001b[1;34m\"qos\"\u001b[0m: \u001b[1;36m0\u001b[0m,\n",
       "  \u001b[1;34m\"retain\"\u001b[0m: \u001b[1;36m0\u001b[0m\n",
       "\u001b[1m}\u001b[0m\n"
      ]
     },
     "metadata": {},
     "output_type": "display_data"
    },
    {
     "data": {
      "text/html": [
       "<pre style=\"white-space:pre;overflow-x:auto;line-height:normal;font-family:Menlo,'DejaVu Sans Mono',consolas,'Courier New',monospace\"><span style=\"font-weight: bold\">{</span>\n",
       "  <span style=\"color: #000080; text-decoration-color: #000080; font-weight: bold\">\"topic\"</span>: <span style=\"color: #008000; text-decoration-color: #008000\">\"marlin/checked/this/entry\"</span>,\n",
       "  <span style=\"color: #000080; text-decoration-color: #000080; font-weight: bold\">\"payload\"</span>: <span style=\"color: #008000; text-decoration-color: #008000\">\"10.0,2.0|-63,-61,-63,-69,-63|-65,-63,-65,-71,-65|-58,-56,-57,-63,-58|-49,-48,-49,-55,-50|-62,-65,-63,-68,-63|-61,-59,-61,-67,-61\"</span>,\n",
       "  <span style=\"color: #000080; text-decoration-color: #000080; font-weight: bold\">\"qos\"</span>: <span style=\"color: #008080; text-decoration-color: #008080; font-weight: bold\">0</span>,\n",
       "  <span style=\"color: #000080; text-decoration-color: #000080; font-weight: bold\">\"retain\"</span>: <span style=\"color: #008080; text-decoration-color: #008080; font-weight: bold\">0</span>\n",
       "<span style=\"font-weight: bold\">}</span>\n",
       "</pre>\n"
      ],
      "text/plain": [
       "\u001b[1m{\u001b[0m\n",
       "  \u001b[1;34m\"topic\"\u001b[0m: \u001b[32m\"marlin/checked/this/entry\"\u001b[0m,\n",
       "  \u001b[1;34m\"payload\"\u001b[0m: \u001b[32m\"10.0,2.0|-63,-61,-63,-69,-63|-65,-63,-65,-71,-65|-58,-56,-57,-63,-58|-49,-48,-49,-55,-50|-62,-65,-63,-68,-63|-61,-59,-61,-67,-61\"\u001b[0m,\n",
       "  \u001b[1;34m\"qos\"\u001b[0m: \u001b[1;36m0\u001b[0m,\n",
       "  \u001b[1;34m\"retain\"\u001b[0m: \u001b[1;36m0\u001b[0m\n",
       "\u001b[1m}\u001b[0m\n"
      ]
     },
     "metadata": {},
     "output_type": "display_data"
    },
    {
     "data": {
      "text/html": [
       "<pre style=\"white-space:pre;overflow-x:auto;line-height:normal;font-family:Menlo,'DejaVu Sans Mono',consolas,'Courier New',monospace\"><span style=\"font-weight: bold\">{</span>\n",
       "  <span style=\"color: #000080; text-decoration-color: #000080; font-weight: bold\">\"topic\"</span>: <span style=\"color: #008000; text-decoration-color: #008000\">\"nemo/tracks/dory\"</span>,\n",
       "  <span style=\"color: #000080; text-decoration-color: #000080; font-weight: bold\">\"payload\"</span>: <span style=\"color: #008000; text-decoration-color: #008000\">\"10.0,4.0|-66,-67,-65,-65,-71|-67,-69,-65,-66,-71|-62,-63,-60,-61,-66|-58,-59,-56,-57,-62|-64,-64,-64,-62,-68|-61,-62,-60,-60,-66\"</span>,\n",
       "  <span style=\"color: #000080; text-decoration-color: #000080; font-weight: bold\">\"qos\"</span>: <span style=\"color: #008080; text-decoration-color: #008080; font-weight: bold\">0</span>,\n",
       "  <span style=\"color: #000080; text-decoration-color: #000080; font-weight: bold\">\"retain\"</span>: <span style=\"color: #008080; text-decoration-color: #008080; font-weight: bold\">0</span>\n",
       "<span style=\"font-weight: bold\">}</span>\n",
       "</pre>\n"
      ],
      "text/plain": [
       "\u001b[1m{\u001b[0m\n",
       "  \u001b[1;34m\"topic\"\u001b[0m: \u001b[32m\"nemo/tracks/dory\"\u001b[0m,\n",
       "  \u001b[1;34m\"payload\"\u001b[0m: \u001b[32m\"10.0,4.0|-66,-67,-65,-65,-71|-67,-69,-65,-66,-71|-62,-63,-60,-61,-66|-58,-59,-56,-57,-62|-64,-64,-64,-62,-68|-61,-62,-60,-60,-66\"\u001b[0m,\n",
       "  \u001b[1;34m\"qos\"\u001b[0m: \u001b[1;36m0\u001b[0m,\n",
       "  \u001b[1;34m\"retain\"\u001b[0m: \u001b[1;36m0\u001b[0m\n",
       "\u001b[1m}\u001b[0m\n"
      ]
     },
     "metadata": {},
     "output_type": "display_data"
    },
    {
     "data": {
      "text/html": [
       "<pre style=\"white-space:pre;overflow-x:auto;line-height:normal;font-family:Menlo,'DejaVu Sans Mono',consolas,'Courier New',monospace\"><span style=\"font-weight: bold\">{</span>\n",
       "  <span style=\"color: #000080; text-decoration-color: #000080; font-weight: bold\">\"topic\"</span>: <span style=\"color: #008000; text-decoration-color: #008000\">\"marlin/and/nemo/are/stalkers\"</span>,\n",
       "  <span style=\"color: #000080; text-decoration-color: #000080; font-weight: bold\">\"payload\"</span>: <span style=\"color: #008000; text-decoration-color: #008000\">\"10.0,8.0|-66,-64,-60,-66,-69|-64,-62,-58,-64,-67|-63,-62,-57,-63,-66|-62,-60,-56,-62,-65|-58,-57,-53,-58,-61|-50,-48,-44,-50,-53\"</span>,\n",
       "  <span style=\"color: #000080; text-decoration-color: #000080; font-weight: bold\">\"qos\"</span>: <span style=\"color: #008080; text-decoration-color: #008080; font-weight: bold\">0</span>,\n",
       "  <span style=\"color: #000080; text-decoration-color: #000080; font-weight: bold\">\"retain\"</span>: <span style=\"color: #008080; text-decoration-color: #008080; font-weight: bold\">0</span>\n",
       "<span style=\"font-weight: bold\">}</span>\n",
       "</pre>\n"
      ],
      "text/plain": [
       "\u001b[1m{\u001b[0m\n",
       "  \u001b[1;34m\"topic\"\u001b[0m: \u001b[32m\"marlin/and/nemo/are/stalkers\"\u001b[0m,\n",
       "  \u001b[1;34m\"payload\"\u001b[0m: \u001b[32m\"10.0,8.0|-66,-64,-60,-66,-69|-64,-62,-58,-64,-67|-63,-62,-57,-63,-66|-62,-60,-56,-62,-65|-58,-57,-53,-58,-61|-50,-48,-44,-50,-53\"\u001b[0m,\n",
       "  \u001b[1;34m\"qos\"\u001b[0m: \u001b[1;36m0\u001b[0m,\n",
       "  \u001b[1;34m\"retain\"\u001b[0m: \u001b[1;36m0\u001b[0m\n",
       "\u001b[1m}\u001b[0m\n"
      ]
     },
     "metadata": {},
     "output_type": "display_data"
    },
    {
     "data": {
      "text/html": [
       "<pre style=\"white-space:pre;overflow-x:auto;line-height:normal;font-family:Menlo,'DejaVu Sans Mono',consolas,'Courier New',monospace\"><span style=\"font-weight: bold\">{</span>\n",
       "  <span style=\"color: #000080; text-decoration-color: #000080; font-weight: bold\">\"topic\"</span>: <span style=\"color: #008000; text-decoration-color: #008000\">\"no/nemo/here/discard/this\"</span>,\n",
       "  <span style=\"color: #000080; text-decoration-color: #000080; font-weight: bold\">\"payload\"</span>: <span style=\"color: #008000; text-decoration-color: #008000\">\"6.6,6.6|-23,-45,-63,-32,-65|-13,-12,-94,-58,-106|-66,-66,-666,-66,-66|-55,-55,-55,-55,-55|-77,-77,-777,-77,-77|-21,-59,-33,-67,-121\"</span>,\n",
       "  <span style=\"color: #000080; text-decoration-color: #000080; font-weight: bold\">\"qos\"</span>: <span style=\"color: #008080; text-decoration-color: #008080; font-weight: bold\">0</span>,\n",
       "  <span style=\"color: #000080; text-decoration-color: #000080; font-weight: bold\">\"retain\"</span>: <span style=\"color: #008080; text-decoration-color: #008080; font-weight: bold\">0</span>\n",
       "<span style=\"font-weight: bold\">}</span>\n",
       "</pre>\n"
      ],
      "text/plain": [
       "\u001b[1m{\u001b[0m\n",
       "  \u001b[1;34m\"topic\"\u001b[0m: \u001b[32m\"no/nemo/here/discard/this\"\u001b[0m,\n",
       "  \u001b[1;34m\"payload\"\u001b[0m: \u001b[32m\"6.6,6.6|-23,-45,-63,-32,-65|-13,-12,-94,-58,-106|-66,-66,-666,-66,-66|-55,-55,-55,-55,-55|-77,-77,-777,-77,-77|-21,-59,-33,-67,-121\"\u001b[0m,\n",
       "  \u001b[1;34m\"qos\"\u001b[0m: \u001b[1;36m0\u001b[0m,\n",
       "  \u001b[1;34m\"retain\"\u001b[0m: \u001b[1;36m0\u001b[0m\n",
       "\u001b[1m}\u001b[0m\n"
      ]
     },
     "metadata": {},
     "output_type": "display_data"
    },
    {
     "data": {
      "text/html": [
       "<pre style=\"white-space:pre;overflow-x:auto;line-height:normal;font-family:Menlo,'DejaVu Sans Mono',consolas,'Courier New',monospace\"><span style=\"font-weight: bold\">{</span>\n",
       "  <span style=\"color: #000080; text-decoration-color: #000080; font-weight: bold\">\"topic\"</span>: <span style=\"color: #008000; text-decoration-color: #008000\">\"dory/has/been/here/too\"</span>,\n",
       "  <span style=\"color: #000080; text-decoration-color: #000080; font-weight: bold\">\"payload\"</span>: <span style=\"color: #008000; text-decoration-color: #008000\">\"6.0,6.0|-64,-65,-63,-64,-63|-62,-64,-61,-62,-61|-61,-62,-60,-61,-60|-62,-64,-61,-62,-61|-57,-59,-57,-57,-57|-60,-62,-59,-60,-59\"</span>,\n",
       "  <span style=\"color: #000080; text-decoration-color: #000080; font-weight: bold\">\"qos\"</span>: <span style=\"color: #008080; text-decoration-color: #008080; font-weight: bold\">0</span>,\n",
       "  <span style=\"color: #000080; text-decoration-color: #000080; font-weight: bold\">\"retain\"</span>: <span style=\"color: #008080; text-decoration-color: #008080; font-weight: bold\">0</span>\n",
       "<span style=\"font-weight: bold\">}</span>\n",
       "</pre>\n"
      ],
      "text/plain": [
       "\u001b[1m{\u001b[0m\n",
       "  \u001b[1;34m\"topic\"\u001b[0m: \u001b[32m\"dory/has/been/here/too\"\u001b[0m,\n",
       "  \u001b[1;34m\"payload\"\u001b[0m: \u001b[32m\"6.0,6.0|-64,-65,-63,-64,-63|-62,-64,-61,-62,-61|-61,-62,-60,-61,-60|-62,-64,-61,-62,-61|-57,-59,-57,-57,-57|-60,-62,-59,-60,-59\"\u001b[0m,\n",
       "  \u001b[1;34m\"qos\"\u001b[0m: \u001b[1;36m0\u001b[0m,\n",
       "  \u001b[1;34m\"retain\"\u001b[0m: \u001b[1;36m0\u001b[0m\n",
       "\u001b[1m}\u001b[0m\n"
      ]
     },
     "metadata": {},
     "output_type": "display_data"
    },
    {
     "data": {
      "text/html": [
       "<pre style=\"white-space:pre;overflow-x:auto;line-height:normal;font-family:Menlo,'DejaVu Sans Mono',consolas,'Courier New',monospace\"><span style=\"font-weight: bold\">{</span>\n",
       "  <span style=\"color: #000080; text-decoration-color: #000080; font-weight: bold\">\"topic\"</span>: <span style=\"color: #008000; text-decoration-color: #008000\">\"find/this/hidden/dory/\"</span>,\n",
       "  <span style=\"color: #000080; text-decoration-color: #000080; font-weight: bold\">\"payload\"</span>: <span style=\"color: #008000; text-decoration-color: #008000\">\"0.0,0.0|-27,-30,-29,-25,-23|-67,-70,-68,-65,-63|-61,-65,-63,-59,-57|-67,-71,-68,-65,-63|-68,-71,-69,-66,-64|-70,-73,-72,-68,-66\"</span>,\n",
       "  <span style=\"color: #000080; text-decoration-color: #000080; font-weight: bold\">\"qos\"</span>: <span style=\"color: #008080; text-decoration-color: #008080; font-weight: bold\">0</span>,\n",
       "  <span style=\"color: #000080; text-decoration-color: #000080; font-weight: bold\">\"retain\"</span>: <span style=\"color: #008080; text-decoration-color: #008080; font-weight: bold\">0</span>\n",
       "<span style=\"font-weight: bold\">}</span>\n",
       "</pre>\n"
      ],
      "text/plain": [
       "\u001b[1m{\u001b[0m\n",
       "  \u001b[1;34m\"topic\"\u001b[0m: \u001b[32m\"find/this/hidden/dory/\"\u001b[0m,\n",
       "  \u001b[1;34m\"payload\"\u001b[0m: \u001b[32m\"0.0,0.0|-27,-30,-29,-25,-23|-67,-70,-68,-65,-63|-61,-65,-63,-59,-57|-67,-71,-68,-65,-63|-68,-71,-69,-66,-64|-70,-73,-72,-68,-66\"\u001b[0m,\n",
       "  \u001b[1;34m\"qos\"\u001b[0m: \u001b[1;36m0\u001b[0m,\n",
       "  \u001b[1;34m\"retain\"\u001b[0m: \u001b[1;36m0\u001b[0m\n",
       "\u001b[1m}\u001b[0m\n"
      ]
     },
     "metadata": {},
     "output_type": "display_data"
    }
   ],
   "source": [
    "from rich import print_json\n",
    "for item in messages:\n",
    "    print_json(data=item)"
   ]
  },
  {
   "cell_type": "markdown",
   "metadata": {},
   "source": [
    "By printing them we can see that some are clearly misleading. We can proceed to filter out those entries."
   ]
  },
  {
   "cell_type": "code",
   "execution_count": 7,
   "metadata": {},
   "outputs": [
    {
     "data": {
      "text/html": [
       "<pre style=\"white-space:pre;overflow-x:auto;line-height:normal;font-family:Menlo,'DejaVu Sans Mono',consolas,'Courier New',monospace\"><span style=\"font-weight: bold\">{</span>\n",
       "  <span style=\"color: #000080; text-decoration-color: #000080; font-weight: bold\">\"topic\"</span>: <span style=\"color: #008000; text-decoration-color: #008000\">\"find/this/hidden/dory/here\"</span>,\n",
       "  <span style=\"color: #000080; text-decoration-color: #000080; font-weight: bold\">\"payload\"</span>: <span style=\"color: #008000; text-decoration-color: #008000\">\"0.0,8.0|-63,-60,-60,-59,-64|-51,-49,-47,-48,-53|-64,-62,-67,-61,-66|-67,-66,-64,-63,-68|-59,-57,-58,-56,-61|-65,-63,-64,-62,-66\"</span>,\n",
       "  <span style=\"color: #000080; text-decoration-color: #000080; font-weight: bold\">\"qos\"</span>: <span style=\"color: #008080; text-decoration-color: #008080; font-weight: bold\">0</span>,\n",
       "  <span style=\"color: #000080; text-decoration-color: #000080; font-weight: bold\">\"retain\"</span>: <span style=\"color: #008080; text-decoration-color: #008080; font-weight: bold\">0</span>\n",
       "<span style=\"font-weight: bold\">}</span>\n",
       "</pre>\n"
      ],
      "text/plain": [
       "\u001b[1m{\u001b[0m\n",
       "  \u001b[1;34m\"topic\"\u001b[0m: \u001b[32m\"find/this/hidden/dory/here\"\u001b[0m,\n",
       "  \u001b[1;34m\"payload\"\u001b[0m: \u001b[32m\"0.0,8.0|-63,-60,-60,-59,-64|-51,-49,-47,-48,-53|-64,-62,-67,-61,-66|-67,-66,-64,-63,-68|-59,-57,-58,-56,-61|-65,-63,-64,-62,-66\"\u001b[0m,\n",
       "  \u001b[1;34m\"qos\"\u001b[0m: \u001b[1;36m0\u001b[0m,\n",
       "  \u001b[1;34m\"retain\"\u001b[0m: \u001b[1;36m0\u001b[0m\n",
       "\u001b[1m}\u001b[0m\n"
      ]
     },
     "metadata": {},
     "output_type": "display_data"
    },
    {
     "data": {
      "text/html": [
       "<pre style=\"white-space:pre;overflow-x:auto;line-height:normal;font-family:Menlo,'DejaVu Sans Mono',consolas,'Courier New',monospace\"><span style=\"font-weight: bold\">{</span>\n",
       "  <span style=\"color: #000080; text-decoration-color: #000080; font-weight: bold\">\"topic\"</span>: <span style=\"color: #008000; text-decoration-color: #008000\">\"/dory/has/been/here\"</span>,\n",
       "  <span style=\"color: #000080; text-decoration-color: #000080; font-weight: bold\">\"payload\"</span>: <span style=\"color: #008000; text-decoration-color: #008000\">\"6.0,4.0|-63,-61,-65,-63,-64|-64,-63,-64,-65,-65|-58,-56,-58,-59,-59|-62,-59,-61,-61,-62|-62,-60,-61,-62,-62|-65,-61,-63,-63,-64\"</span>,\n",
       "  <span style=\"color: #000080; text-decoration-color: #000080; font-weight: bold\">\"qos\"</span>: <span style=\"color: #008080; text-decoration-color: #008080; font-weight: bold\">0</span>,\n",
       "  <span style=\"color: #000080; text-decoration-color: #000080; font-weight: bold\">\"retain\"</span>: <span style=\"color: #008080; text-decoration-color: #008080; font-weight: bold\">0</span>\n",
       "<span style=\"font-weight: bold\">}</span>\n",
       "</pre>\n"
      ],
      "text/plain": [
       "\u001b[1m{\u001b[0m\n",
       "  \u001b[1;34m\"topic\"\u001b[0m: \u001b[32m\"/dory/has/been/here\"\u001b[0m,\n",
       "  \u001b[1;34m\"payload\"\u001b[0m: \u001b[32m\"6.0,4.0|-63,-61,-65,-63,-64|-64,-63,-64,-65,-65|-58,-56,-58,-59,-59|-62,-59,-61,-61,-62|-62,-60,-61,-62,-62|-65,-61,-63,-63,-64\"\u001b[0m,\n",
       "  \u001b[1;34m\"qos\"\u001b[0m: \u001b[1;36m0\u001b[0m,\n",
       "  \u001b[1;34m\"retain\"\u001b[0m: \u001b[1;36m0\u001b[0m\n",
       "\u001b[1m}\u001b[0m\n"
      ]
     },
     "metadata": {},
     "output_type": "display_data"
    },
    {
     "data": {
      "text/html": [
       "<pre style=\"white-space:pre;overflow-x:auto;line-height:normal;font-family:Menlo,'DejaVu Sans Mono',consolas,'Courier New',monospace\"><span style=\"font-weight: bold\">{</span>\n",
       "  <span style=\"color: #000080; text-decoration-color: #000080; font-weight: bold\">\"topic\"</span>: <span style=\"color: #008000; text-decoration-color: #008000\">\"find/this/hidden/dory/there\"</span>,\n",
       "  <span style=\"color: #000080; text-decoration-color: #000080; font-weight: bold\">\"payload\"</span>: <span style=\"color: #008000; text-decoration-color: #008000\">\"0.0,10.0|-69,-64,-67,-65,-65|-19,-24,-25,-25,-25|-60,-65,-69,-66,-66|-62,-67,-70,-68,-68|-53,-58,-61,-59,-59|-59,-64,-67,-65,-65\"</span>,\n",
       "  <span style=\"color: #000080; text-decoration-color: #000080; font-weight: bold\">\"qos\"</span>: <span style=\"color: #008080; text-decoration-color: #008080; font-weight: bold\">0</span>,\n",
       "  <span style=\"color: #000080; text-decoration-color: #000080; font-weight: bold\">\"retain\"</span>: <span style=\"color: #008080; text-decoration-color: #008080; font-weight: bold\">0</span>\n",
       "<span style=\"font-weight: bold\">}</span>\n",
       "</pre>\n"
      ],
      "text/plain": [
       "\u001b[1m{\u001b[0m\n",
       "  \u001b[1;34m\"topic\"\u001b[0m: \u001b[32m\"find/this/hidden/dory/there\"\u001b[0m,\n",
       "  \u001b[1;34m\"payload\"\u001b[0m: \u001b[32m\"0.0,10.0|-69,-64,-67,-65,-65|-19,-24,-25,-25,-25|-60,-65,-69,-66,-66|-62,-67,-70,-68,-68|-53,-58,-61,-59,-59|-59,-64,-67,-65,-65\"\u001b[0m,\n",
       "  \u001b[1;34m\"qos\"\u001b[0m: \u001b[1;36m0\u001b[0m,\n",
       "  \u001b[1;34m\"retain\"\u001b[0m: \u001b[1;36m0\u001b[0m\n",
       "\u001b[1m}\u001b[0m\n"
      ]
     },
     "metadata": {},
     "output_type": "display_data"
    },
    {
     "data": {
      "text/html": [
       "<pre style=\"white-space:pre;overflow-x:auto;line-height:normal;font-family:Menlo,'DejaVu Sans Mono',consolas,'Courier New',monospace\"><span style=\"font-weight: bold\">{</span>\n",
       "  <span style=\"color: #000080; text-decoration-color: #000080; font-weight: bold\">\"topic\"</span>: <span style=\"color: #008000; text-decoration-color: #008000\">\"hey/dory/where/are/u\"</span>,\n",
       "  <span style=\"color: #000080; text-decoration-color: #000080; font-weight: bold\">\"payload\"</span>: <span style=\"color: #008000; text-decoration-color: #008000\">\"2.0,8.0|-61,-59,-63,-67,-65|-52,-53,-54,-58,-56|-61,-59,-64,-67,-65|-63,-62,-66,-69,-68|-54,-55,-56,-60,-58|-61,-59,-63,-67,-65\"</span>,\n",
       "  <span style=\"color: #000080; text-decoration-color: #000080; font-weight: bold\">\"qos\"</span>: <span style=\"color: #008080; text-decoration-color: #008080; font-weight: bold\">0</span>,\n",
       "  <span style=\"color: #000080; text-decoration-color: #000080; font-weight: bold\">\"retain\"</span>: <span style=\"color: #008080; text-decoration-color: #008080; font-weight: bold\">0</span>\n",
       "<span style=\"font-weight: bold\">}</span>\n",
       "</pre>\n"
      ],
      "text/plain": [
       "\u001b[1m{\u001b[0m\n",
       "  \u001b[1;34m\"topic\"\u001b[0m: \u001b[32m\"hey/dory/where/are/u\"\u001b[0m,\n",
       "  \u001b[1;34m\"payload\"\u001b[0m: \u001b[32m\"2.0,8.0|-61,-59,-63,-67,-65|-52,-53,-54,-58,-56|-61,-59,-64,-67,-65|-63,-62,-66,-69,-68|-54,-55,-56,-60,-58|-61,-59,-63,-67,-65\"\u001b[0m,\n",
       "  \u001b[1;34m\"qos\"\u001b[0m: \u001b[1;36m0\u001b[0m,\n",
       "  \u001b[1;34m\"retain\"\u001b[0m: \u001b[1;36m0\u001b[0m\n",
       "\u001b[1m}\u001b[0m\n"
      ]
     },
     "metadata": {},
     "output_type": "display_data"
    },
    {
     "data": {
      "text/html": [
       "<pre style=\"white-space:pre;overflow-x:auto;line-height:normal;font-family:Menlo,'DejaVu Sans Mono',consolas,'Courier New',monospace\"><span style=\"font-weight: bold\">{</span>\n",
       "  <span style=\"color: #000080; text-decoration-color: #000080; font-weight: bold\">\"topic\"</span>: <span style=\"color: #008000; text-decoration-color: #008000\">\"find/this/hidden/dory/over/there\"</span>,\n",
       "  <span style=\"color: #000080; text-decoration-color: #000080; font-weight: bold\">\"payload\"</span>: <span style=\"color: #008000; text-decoration-color: #008000\">\"2.0,0.0|-55,-51,-50,-50,-57|-69,-65,-64,-64,-71|-58,-55,-53,-54,-60|-67,-63,-62,-64,-69|-69,-66,-64,-64,-71|-71,-67,-66,-66,-73\"</span>,\n",
       "  <span style=\"color: #000080; text-decoration-color: #000080; font-weight: bold\">\"qos\"</span>: <span style=\"color: #008080; text-decoration-color: #008080; font-weight: bold\">0</span>,\n",
       "  <span style=\"color: #000080; text-decoration-color: #000080; font-weight: bold\">\"retain\"</span>: <span style=\"color: #008080; text-decoration-color: #008080; font-weight: bold\">0</span>\n",
       "<span style=\"font-weight: bold\">}</span>\n",
       "</pre>\n"
      ],
      "text/plain": [
       "\u001b[1m{\u001b[0m\n",
       "  \u001b[1;34m\"topic\"\u001b[0m: \u001b[32m\"find/this/hidden/dory/over/there\"\u001b[0m,\n",
       "  \u001b[1;34m\"payload\"\u001b[0m: \u001b[32m\"2.0,0.0|-55,-51,-50,-50,-57|-69,-65,-64,-64,-71|-58,-55,-53,-54,-60|-67,-63,-62,-64,-69|-69,-66,-64,-64,-71|-71,-67,-66,-66,-73\"\u001b[0m,\n",
       "  \u001b[1;34m\"qos\"\u001b[0m: \u001b[1;36m0\u001b[0m,\n",
       "  \u001b[1;34m\"retain\"\u001b[0m: \u001b[1;36m0\u001b[0m\n",
       "\u001b[1m}\u001b[0m\n"
      ]
     },
     "metadata": {},
     "output_type": "display_data"
    },
    {
     "data": {
      "text/html": [
       "<pre style=\"white-space:pre;overflow-x:auto;line-height:normal;font-family:Menlo,'DejaVu Sans Mono',consolas,'Courier New',monospace\"><span style=\"font-weight: bold\">{</span>\n",
       "  <span style=\"color: #000080; text-decoration-color: #000080; font-weight: bold\">\"topic\"</span>: <span style=\"color: #008000; text-decoration-color: #008000\">\"please/dory/come/back/home\"</span>,\n",
       "  <span style=\"color: #000080; text-decoration-color: #000080; font-weight: bold\">\"payload\"</span>: <span style=\"color: #008000; text-decoration-color: #008000\">\"4.0,2.0|-60,-60,-63,-58,-59|-66,-66,-69,-64,-65|-54,-54,-58,-53,-53|-63,-63,-66,-61,-62|-65,-65,-68,-63,-64|-67,-67,-70,-65,-66\"</span>,\n",
       "  <span style=\"color: #000080; text-decoration-color: #000080; font-weight: bold\">\"qos\"</span>: <span style=\"color: #008080; text-decoration-color: #008080; font-weight: bold\">0</span>,\n",
       "  <span style=\"color: #000080; text-decoration-color: #000080; font-weight: bold\">\"retain\"</span>: <span style=\"color: #008080; text-decoration-color: #008080; font-weight: bold\">0</span>\n",
       "<span style=\"font-weight: bold\">}</span>\n",
       "</pre>\n"
      ],
      "text/plain": [
       "\u001b[1m{\u001b[0m\n",
       "  \u001b[1;34m\"topic\"\u001b[0m: \u001b[32m\"please/dory/come/back/home\"\u001b[0m,\n",
       "  \u001b[1;34m\"payload\"\u001b[0m: \u001b[32m\"4.0,2.0|-60,-60,-63,-58,-59|-66,-66,-69,-64,-65|-54,-54,-58,-53,-53|-63,-63,-66,-61,-62|-65,-65,-68,-63,-64|-67,-67,-70,-65,-66\"\u001b[0m,\n",
       "  \u001b[1;34m\"qos\"\u001b[0m: \u001b[1;36m0\u001b[0m,\n",
       "  \u001b[1;34m\"retain\"\u001b[0m: \u001b[1;36m0\u001b[0m\n",
       "\u001b[1m}\u001b[0m\n"
      ]
     },
     "metadata": {},
     "output_type": "display_data"
    },
    {
     "data": {
      "text/html": [
       "<pre style=\"white-space:pre;overflow-x:auto;line-height:normal;font-family:Menlo,'DejaVu Sans Mono',consolas,'Courier New',monospace\"><span style=\"font-weight: bold\">{</span>\n",
       "  <span style=\"color: #000080; text-decoration-color: #000080; font-weight: bold\">\"topic\"</span>: <span style=\"color: #008000; text-decoration-color: #008000\">\"nemo/tracks/dory\"</span>,\n",
       "  <span style=\"color: #000080; text-decoration-color: #000080; font-weight: bold\">\"payload\"</span>: <span style=\"color: #008000; text-decoration-color: #008000\">\"10.0,4.0|-66,-67,-65,-65,-71|-67,-69,-65,-66,-71|-62,-63,-60,-61,-66|-58,-59,-56,-57,-62|-64,-64,-64,-62,-68|-61,-62,-60,-60,-66\"</span>,\n",
       "  <span style=\"color: #000080; text-decoration-color: #000080; font-weight: bold\">\"qos\"</span>: <span style=\"color: #008080; text-decoration-color: #008080; font-weight: bold\">0</span>,\n",
       "  <span style=\"color: #000080; text-decoration-color: #000080; font-weight: bold\">\"retain\"</span>: <span style=\"color: #008080; text-decoration-color: #008080; font-weight: bold\">0</span>\n",
       "<span style=\"font-weight: bold\">}</span>\n",
       "</pre>\n"
      ],
      "text/plain": [
       "\u001b[1m{\u001b[0m\n",
       "  \u001b[1;34m\"topic\"\u001b[0m: \u001b[32m\"nemo/tracks/dory\"\u001b[0m,\n",
       "  \u001b[1;34m\"payload\"\u001b[0m: \u001b[32m\"10.0,4.0|-66,-67,-65,-65,-71|-67,-69,-65,-66,-71|-62,-63,-60,-61,-66|-58,-59,-56,-57,-62|-64,-64,-64,-62,-68|-61,-62,-60,-60,-66\"\u001b[0m,\n",
       "  \u001b[1;34m\"qos\"\u001b[0m: \u001b[1;36m0\u001b[0m,\n",
       "  \u001b[1;34m\"retain\"\u001b[0m: \u001b[1;36m0\u001b[0m\n",
       "\u001b[1m}\u001b[0m\n"
      ]
     },
     "metadata": {},
     "output_type": "display_data"
    },
    {
     "data": {
      "text/html": [
       "<pre style=\"white-space:pre;overflow-x:auto;line-height:normal;font-family:Menlo,'DejaVu Sans Mono',consolas,'Courier New',monospace\"><span style=\"font-weight: bold\">{</span>\n",
       "  <span style=\"color: #000080; text-decoration-color: #000080; font-weight: bold\">\"topic\"</span>: <span style=\"color: #008000; text-decoration-color: #008000\">\"dory/has/been/here/too\"</span>,\n",
       "  <span style=\"color: #000080; text-decoration-color: #000080; font-weight: bold\">\"payload\"</span>: <span style=\"color: #008000; text-decoration-color: #008000\">\"6.0,6.0|-64,-65,-63,-64,-63|-62,-64,-61,-62,-61|-61,-62,-60,-61,-60|-62,-64,-61,-62,-61|-57,-59,-57,-57,-57|-60,-62,-59,-60,-59\"</span>,\n",
       "  <span style=\"color: #000080; text-decoration-color: #000080; font-weight: bold\">\"qos\"</span>: <span style=\"color: #008080; text-decoration-color: #008080; font-weight: bold\">0</span>,\n",
       "  <span style=\"color: #000080; text-decoration-color: #000080; font-weight: bold\">\"retain\"</span>: <span style=\"color: #008080; text-decoration-color: #008080; font-weight: bold\">0</span>\n",
       "<span style=\"font-weight: bold\">}</span>\n",
       "</pre>\n"
      ],
      "text/plain": [
       "\u001b[1m{\u001b[0m\n",
       "  \u001b[1;34m\"topic\"\u001b[0m: \u001b[32m\"dory/has/been/here/too\"\u001b[0m,\n",
       "  \u001b[1;34m\"payload\"\u001b[0m: \u001b[32m\"6.0,6.0|-64,-65,-63,-64,-63|-62,-64,-61,-62,-61|-61,-62,-60,-61,-60|-62,-64,-61,-62,-61|-57,-59,-57,-57,-57|-60,-62,-59,-60,-59\"\u001b[0m,\n",
       "  \u001b[1;34m\"qos\"\u001b[0m: \u001b[1;36m0\u001b[0m,\n",
       "  \u001b[1;34m\"retain\"\u001b[0m: \u001b[1;36m0\u001b[0m\n",
       "\u001b[1m}\u001b[0m\n"
      ]
     },
     "metadata": {},
     "output_type": "display_data"
    },
    {
     "data": {
      "text/html": [
       "<pre style=\"white-space:pre;overflow-x:auto;line-height:normal;font-family:Menlo,'DejaVu Sans Mono',consolas,'Courier New',monospace\"><span style=\"font-weight: bold\">{</span>\n",
       "  <span style=\"color: #000080; text-decoration-color: #000080; font-weight: bold\">\"topic\"</span>: <span style=\"color: #008000; text-decoration-color: #008000\">\"find/this/hidden/dory/\"</span>,\n",
       "  <span style=\"color: #000080; text-decoration-color: #000080; font-weight: bold\">\"payload\"</span>: <span style=\"color: #008000; text-decoration-color: #008000\">\"0.0,0.0|-27,-30,-29,-25,-23|-67,-70,-68,-65,-63|-61,-65,-63,-59,-57|-67,-71,-68,-65,-63|-68,-71,-69,-66,-64|-70,-73,-72,-68,-66\"</span>,\n",
       "  <span style=\"color: #000080; text-decoration-color: #000080; font-weight: bold\">\"qos\"</span>: <span style=\"color: #008080; text-decoration-color: #008080; font-weight: bold\">0</span>,\n",
       "  <span style=\"color: #000080; text-decoration-color: #000080; font-weight: bold\">\"retain\"</span>: <span style=\"color: #008080; text-decoration-color: #008080; font-weight: bold\">0</span>\n",
       "<span style=\"font-weight: bold\">}</span>\n",
       "</pre>\n"
      ],
      "text/plain": [
       "\u001b[1m{\u001b[0m\n",
       "  \u001b[1;34m\"topic\"\u001b[0m: \u001b[32m\"find/this/hidden/dory/\"\u001b[0m,\n",
       "  \u001b[1;34m\"payload\"\u001b[0m: \u001b[32m\"0.0,0.0|-27,-30,-29,-25,-23|-67,-70,-68,-65,-63|-61,-65,-63,-59,-57|-67,-71,-68,-65,-63|-68,-71,-69,-66,-64|-70,-73,-72,-68,-66\"\u001b[0m,\n",
       "  \u001b[1;34m\"qos\"\u001b[0m: \u001b[1;36m0\u001b[0m,\n",
       "  \u001b[1;34m\"retain\"\u001b[0m: \u001b[1;36m0\u001b[0m\n",
       "\u001b[1m}\u001b[0m\n"
      ]
     },
     "metadata": {},
     "output_type": "display_data"
    }
   ],
   "source": [
    "from rich import print_json\n",
    "from json import dumps, dump, load\n",
    "\n",
    "blacklist = [\n",
    "    \"/wierd/topic/isnt/it\",\n",
    "    \"cant/be/a/valid/entry\",\n",
    "    \"hi/nemo/wassup/\",\n",
    "    \"marlin/checked/this/entry\",\n",
    "    \"nemo/tracks/dory\",\n",
    "    \"marlin/and/nemo/are/stalkers\",\n",
    "    \"no/nemo/here/discard/this\"\n",
    "]\n",
    "for item in messages:\n",
    "    if item[\"topic\"] in blacklist:\n",
    "        messages.remove(item)\n",
    "\n",
    "with open(\"mqtt_data.json\", \"w\") as f:\n",
    "    for item in messages:\n",
    "        print_json(data=item)\n",
    "    dump(messages, f, indent=4)"
   ]
  }
 ],
 "metadata": {
  "kernelspec": {
   "display_name": "Python 3.9.13 ('venv': venv)",
   "language": "python",
   "name": "python3"
  },
  "language_info": {
   "codemirror_mode": {
    "name": "ipython",
    "version": 3
   },
   "file_extension": ".py",
   "mimetype": "text/x-python",
   "name": "python",
   "nbconvert_exporter": "python",
   "pygments_lexer": "ipython3",
   "version": "3.9.13"
  },
  "orig_nbformat": 4,
  "vscode": {
   "interpreter": {
    "hash": "de643e13b9942cf28225ad9514720f3804453331ce29941d95641e2b41e79098"
   }
  }
 },
 "nbformat": 4,
 "nbformat_minor": 2
}
